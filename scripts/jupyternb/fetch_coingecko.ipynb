{
 "cells": [
  {
   "cell_type": "code",
   "execution_count": null,
   "id": "2fcdf6ab-7a86-4601-a12d-716dde9b4848",
   "metadata": {},
   "outputs": [
    {
     "ename": "KeyError",
     "evalue": "'prices'",
     "output_type": "error",
     "traceback": [
      "\u001b[31m---------------------------------------------------------------------------\u001b[39m",
      "\u001b[31mKeyError\u001b[39m                                  Traceback (most recent call last)",
      "\u001b[36mCell\u001b[39m\u001b[36m \u001b[39m\u001b[32mIn[1]\u001b[39m\u001b[32m, line 17\u001b[39m\n\u001b[32m     14\u001b[39m data = requests.get(url, params=params, timeout=\u001b[32m30\u001b[39m).json()\n\u001b[32m     16\u001b[39m \u001b[38;5;66;03m# 2) Convert to tidy DataFrame ---------------------------------------------\u001b[39;00m\n\u001b[32m---> \u001b[39m\u001b[32m17\u001b[39m df_price  = pd.DataFrame(\u001b[43mdata\u001b[49m\u001b[43m[\u001b[49m\u001b[33;43m\"\u001b[39;49m\u001b[33;43mprices\u001b[39;49m\u001b[33;43m\"\u001b[39;49m\u001b[43m]\u001b[49m,      columns=[\u001b[33m\"\u001b[39m\u001b[33mtimestamp\u001b[39m\u001b[33m\"\u001b[39m, \u001b[33m\"\u001b[39m\u001b[33mprice\u001b[39m\u001b[33m\"\u001b[39m])\n\u001b[32m     18\u001b[39m df_mcap   = pd.DataFrame(data[\u001b[33m\"\u001b[39m\u001b[33mmarket_caps\u001b[39m\u001b[33m\"\u001b[39m], columns=[\u001b[33m\"\u001b[39m\u001b[33mtimestamp\u001b[39m\u001b[33m\"\u001b[39m, \u001b[33m\"\u001b[39m\u001b[33mmarket_cap\u001b[39m\u001b[33m\"\u001b[39m])\n\u001b[32m     19\u001b[39m df        = df_price.merge(df_mcap, on=\u001b[33m\"\u001b[39m\u001b[33mtimestamp\u001b[39m\u001b[33m\"\u001b[39m)\n",
      "\u001b[31mKeyError\u001b[39m: 'prices'"
     ]
    }
   ],
   "source": [
    "# --------- prerequisites -----------\n",
    "# pip install requests pandas\n",
    "import requests, pandas as pd\n",
    "from datetime import datetime\n",
    "\n",
    "# 1) One-liner endpoint: everything, daily granularity\n",
    "url = \"https://api.coingecko.com/api/v3/coins/bitcoin/market_chart\"\n",
    "params = {\n",
    "    \"vs_currency\": \"usd\",\n",
    "    \"days\": \"max\",          # CoinGecko returns all available history\n",
    "    \"interval\": \"daily\"     # daily candles\n",
    "}\n",
    "\n",
    "data = requests.get(url, params=params, timeout=30).json()\n",
    "\n",
    "# 2) Convert to tidy DataFrame ---------------------------------------------\n",
    "df_price  = pd.DataFrame(data[\"prices\"],      columns=[\"timestamp\", \"price\"])\n",
    "df_mcap   = pd.DataFrame(data[\"market_caps\"], columns=[\"timestamp\", \"market_cap\"])\n",
    "df        = df_price.merge(df_mcap, on=\"timestamp\")\n",
    "df[\"date\"] = pd.to_datetime(df[\"timestamp\"], unit=\"ms\").dt.date\n",
    "df        = df[[\"date\", \"price\", \"market_cap\"]].set_index(\"date\")\n",
    "\n",
    "# 3) Inspect & (optionally) save -------------------------------------------\n",
    "print(df.head())\n",
    "df.to_csv(\"btc_price_mcap_2010-2025_daily.csv\")"
   ]
  },
  {
   "cell_type": "code",
   "execution_count": null,
   "id": "c61d7afe-83b5-4c25-9bdd-0ec84bd8a043",
   "metadata": {},
   "outputs": [
    {
     "ename": "KeyError",
     "evalue": "'prices'",
     "output_type": "error",
     "traceback": [
      "\u001b[31m---------------------------------------------------------------------------\u001b[39m",
      "\u001b[31mKeyError\u001b[39m                                  Traceback (most recent call last)",
      "\u001b[36mCell\u001b[39m\u001b[36m \u001b[39m\u001b[32mIn[2]\u001b[39m\u001b[32m, line 18\u001b[39m\n\u001b[32m     15\u001b[39m data = requests.get(url, params=params, timeout=\u001b[32m30\u001b[39m).json()\n\u001b[32m     17\u001b[39m \u001b[38;5;66;03m# 2) Convert to tidy DataFrame ---------------------------------------------\u001b[39;00m\n\u001b[32m---> \u001b[39m\u001b[32m18\u001b[39m df_price  = pd.DataFrame(\u001b[43mdata\u001b[49m\u001b[43m[\u001b[49m\u001b[33;43m\"\u001b[39;49m\u001b[33;43mprices\u001b[39;49m\u001b[33;43m\"\u001b[39;49m\u001b[43m]\u001b[49m,      columns=[\u001b[33m\"\u001b[39m\u001b[33mtimestamp\u001b[39m\u001b[33m\"\u001b[39m, \u001b[33m\"\u001b[39m\u001b[33mprice\u001b[39m\u001b[33m\"\u001b[39m])\n\u001b[32m     19\u001b[39m df_mcap   = pd.DataFrame(data[\u001b[33m\"\u001b[39m\u001b[33mmarket_caps\u001b[39m\u001b[33m\"\u001b[39m], columns=[\u001b[33m\"\u001b[39m\u001b[33mtimestamp\u001b[39m\u001b[33m\"\u001b[39m, \u001b[33m\"\u001b[39m\u001b[33mmarket_cap\u001b[39m\u001b[33m\"\u001b[39m])\n\u001b[32m     20\u001b[39m df        = df_price.merge(df_mcap, on=\u001b[33m\"\u001b[39m\u001b[33mtimestamp\u001b[39m\u001b[33m\"\u001b[39m)\n",
      "\u001b[31mKeyError\u001b[39m: 'prices'"
     ]
    }
   ],
   "source": [
    "import requests, pandas as pd\n",
    "from datetime import datetime\n",
    "\n",
    "# 1) One-liner endpoint: everything, daily granularity\n",
    "from_ts = int(datetime(2014, 1, 1).timestamp())         # 1388534400\n",
    "to_ts   = int(datetime.now().timestamp())               # \"today\"\n",
    "\n",
    "url = \"https://api.coingecko.com/api/v3/coins/bitcoin/market_chart/range\"\n",
    "params = {\n",
    "    \"vs_currency\": \"usd\",\n",
    "    \"from\": from_ts,\n",
    "    \"to\": to_ts\n",
    "}\n",
    "\n",
    "data = requests.get(url, params=params, timeout=30).json()\n",
    "\n",
    "# 2) Convert to tidy DataFrame ---------------------------------------------\n",
    "df_price  = pd.DataFrame(data[\"prices\"],      columns=[\"timestamp\", \"price\"])\n",
    "df_mcap   = pd.DataFrame(data[\"market_caps\"], columns=[\"timestamp\", \"market_cap\"])\n",
    "df        = df_price.merge(df_mcap, on=\"timestamp\")\n",
    "df[\"date\"] = pd.to_datetime(df[\"timestamp\"], unit=\"ms\").dt.date\n",
    "df        = df[[\"date\", \"price\", \"market_cap\"]].set_index(\"date\")\n",
    "\n",
    "# 3) Inspect & (optionally) save -------------------------------------------\n",
    "print(df.head())\n",
    "df.to_csv(\"btc_price_mcap_2010-2025_daily.csv\")"
   ]
  },
  {
   "cell_type": "code",
   "execution_count": null,
   "metadata": {},
   "outputs": [
    {
     "ename": "NameError",
     "evalue": "name 'df_price' is not defined",
     "output_type": "error",
     "traceback": [
      "\u001b[31m---------------------------------------------------------------------------\u001b[39m",
      "\u001b[31mNameError\u001b[39m                                 Traceback (most recent call last)",
      "\u001b[36mCell\u001b[39m\u001b[36m \u001b[39m\u001b[32mIn[3]\u001b[39m\u001b[32m, line 1\u001b[39m\n\u001b[32m----> \u001b[39m\u001b[32m1\u001b[39m \u001b[43mdf_price\u001b[49m\n",
      "\u001b[31mNameError\u001b[39m: name 'df_price' is not defined"
     ]
    }
   ],
   "source": [
    "df_price"
   ]
  },
  {
   "cell_type": "code",
   "execution_count": null,
   "metadata": {},
   "outputs": [
    {
     "data": {
      "text/plain": [
       "{'error': {'status': {'timestamp': '2025-05-27T13:31:28.853+00:00',\n",
       "   'error_code': 10012,\n",
       "   'error_message': 'Your request exceeds the allowed time range. Public API users are limited to querying historical data within the past 365 days. Upgrade to a paid plan to enjoy full historical data access: https://www.coingecko.com/en/api/pricing. '}}}"
      ]
     },
     "execution_count": 4,
     "metadata": {},
     "output_type": "execute_result"
    }
   ],
   "source": [
    "data"
   ]
  },
  {
   "cell_type": "code",
   "execution_count": null,
   "id": "5937e412-b9c0-4f17-bd64-9921f01944f9",
   "metadata": {},
   "outputs": [
    {
     "name": "stdout",
     "output_type": "stream",
     "text": [
      "                   price    market_cap\n",
      "date                                  \n",
      "2024-10-01  63243.275325  1.249578e+12\n",
      "2024-10-02  60872.668544  1.202927e+12\n",
      "2024-10-03  60655.559792  1.198652e+12\n",
      "2024-10-04  60727.863952  1.200491e+12\n",
      "2024-10-05  62103.010473  1.226663e+12\n"
     ]
    }
   ],
   "source": [
    "import requests, pandas as pd\n",
    "from datetime import datetime\n",
    "\n",
    "# 1) One-liner endpoint: everything, daily granularity\n",
    "from_ts = int(datetime(2024, 10, 1).timestamp())  # 1388534400\n",
    "to_ts = int(datetime.now().timestamp())  # \"today\"\n",
    "\n",
    "url = \"https://api.coingecko.com/api/v3/coins/bitcoin/market_chart/range\"\n",
    "params = {\"vs_currency\": \"usd\", \"from\": from_ts, \"to\": to_ts}\n",
    "\n",
    "data = requests.get(url, params=params, timeout=30).json()\n",
    "\n",
    "# 2) Convert to tidy DataFrame ---------------------------------------------\n",
    "df_price = pd.DataFrame(data[\"prices\"], columns=[\"timestamp\", \"price\"])\n",
    "df_mcap = pd.DataFrame(data[\"market_caps\"], columns=[\"timestamp\", \"market_cap\"])\n",
    "df = df_price.merge(df_mcap, on=\"timestamp\")\n",
    "df[\"date\"] = pd.to_datetime(df[\"timestamp\"], unit=\"ms\").dt.date\n",
    "df = df[[\"date\", \"price\", \"market_cap\"]].set_index(\"date\")\n",
    "\n",
    "# 3) Inspect & (optionally) save -------------------------------------------\n",
    "print(df.head())\n",
    "df.to_csv(\"btc_price_mcap_2010-2025_daily.csv\")"
   ]
  },
  {
   "cell_type": "code",
   "execution_count": null,
   "id": "c4b617b8-4c97-4a4b-86b8-5359fb5fd5a2",
   "metadata": {},
   "outputs": [
    {
     "name": "stderr",
     "output_type": "stream",
     "text": [
      "<ipython-input-6-eb3c2fee57b1>:31: DeprecationWarning: datetime.datetime.utcnow() is deprecated and scheduled for removal in a future version. Use timezone-aware objects to represent datetimes in UTC: datetime.datetime.now(datetime.UTC).\n",
      "  end   = int(datetime.utcnow().timestamp())\n"
     ]
    },
    {
     "ename": "KeyError",
     "evalue": "'market_caps'",
     "output_type": "error",
     "traceback": [
      "\u001b[31m---------------------------------------------------------------------------\u001b[39m",
      "\u001b[31mKeyError\u001b[39m                                  Traceback (most recent call last)",
      "\u001b[36mCell\u001b[39m\u001b[36m \u001b[39m\u001b[32mIn[6]\u001b[39m\u001b[32m, line 38\u001b[39m\n\u001b[32m     33\u001b[39m url = (\n\u001b[32m     34\u001b[39m     \u001b[33m\"\u001b[39m\u001b[33mhttps://api.coingecko.com/api/v3/coins/ripple\u001b[39m\u001b[33m\"\u001b[39m\n\u001b[32m     35\u001b[39m     \u001b[33mf\u001b[39m\u001b[33m\"\u001b[39m\u001b[33m/market_chart/range?vs_currency=usd&from=\u001b[39m\u001b[38;5;132;01m{\u001b[39;00mstart\u001b[38;5;132;01m}\u001b[39;00m\u001b[33m&to=\u001b[39m\u001b[38;5;132;01m{\u001b[39;00mend\u001b[38;5;132;01m}\u001b[39;00m\u001b[33m\"\u001b[39m\n\u001b[32m     36\u001b[39m )\n\u001b[32m     37\u001b[39m data = requests.get(url).json()\n\u001b[32m---> \u001b[39m\u001b[32m38\u001b[39m df = pd.DataFrame(\u001b[43mdata\u001b[49m\u001b[43m[\u001b[49m\u001b[33;43m\"\u001b[39;49m\u001b[33;43mmarket_caps\u001b[39;49m\u001b[33;43m\"\u001b[39;49m\u001b[43m]\u001b[49m, columns=[\u001b[33m\"\u001b[39m\u001b[33mts\u001b[39m\u001b[33m\"\u001b[39m,\u001b[33m\"\u001b[39m\u001b[33mmarket_cap\u001b[39m\u001b[33m\"\u001b[39m])\n\u001b[32m     39\u001b[39m df[\u001b[33m\"\u001b[39m\u001b[33mdate\u001b[39m\u001b[33m\"\u001b[39m] = pd.to_datetime(df.ts, unit=\u001b[33m\"\u001b[39m\u001b[33mms\u001b[39m\u001b[33m\"\u001b[39m)\n\u001b[32m     40\u001b[39m df.set_index(\u001b[33m\"\u001b[39m\u001b[33mdate\u001b[39m\u001b[33m\"\u001b[39m, inplace=\u001b[38;5;28;01mTrue\u001b[39;00m)\n",
      "\u001b[31mKeyError\u001b[39m: 'market_caps'"
     ]
    }
   ],
   "source": [
    "# import requests, pandas as pd\n",
    "# from datetime import datetime\n",
    "\n",
    "# # 1) One-liner endpoint: everything, daily granularity\n",
    "# from_ts = int(datetime(2024, 10, 1).timestamp())  # 1388534400\n",
    "# to_ts = int(datetime.now().timestamp())  # \"today\"\n",
    "\n",
    "# url = \"https://api.coingecko.com/api/v3/coins/bitcoin/market_chart/range\"\n",
    "# params = {\"vs_currency\": \"usd\", \"from\": from_ts, \"to\": to_ts}\n",
    "\n",
    "# data = requests.get(url, params=params, timeout=30).json()\n",
    "\n",
    "# # 2) Convert to tidy DataFrame ---------------------------------------------\n",
    "# df_price = pd.DataFrame(data[\"prices\"], columns=[\"timestamp\", \"price\"])\n",
    "# df_mcap = pd.DataFrame(data[\"market_caps\"], columns=[\"timestamp\", \"market_cap\"])\n",
    "# df = df_price.merge(df_mcap, on=\"timestamp\")\n",
    "# df[\"date\"] = pd.to_datetime(df[\"timestamp\"], unit=\"ms\").dt.date\n",
    "# df = df[[\"date\", \"price\", \"market_cap\"]].set_index(\"date\")\n",
    "\n",
    "# # 3) Inspect & (optionally) save -------------------------------------------\n",
    "# print(df.head())\n",
    "# df.to_csv(\"btc_price_mcap_2010-2025_daily.csv\")\n",
    "\n",
    "\n",
    "# Public API users are limited to querying historical data within the past 365 days. Upgrade to a paid plan to enjoy full historical data access: https://www.coingecko.com/en/api/pricing.\n",
    "\n",
    "import requests, pandas as pd\n",
    "from datetime import datetime\n",
    "\n",
    "start = int(datetime(2021,1,1).timestamp())\n",
    "end   = int(datetime.utcnow().timestamp())\n",
    "\n",
    "url = (\n",
    "    \"https://api.coingecko.com/api/v3/coins/ripple\"\n",
    "    f\"/market_chart/range?vs_currency=usd&from={start}&to={end}\"\n",
    ")\n",
    "data = requests.get(url).json()\n",
    "df = pd.DataFrame(data[\"market_caps\"], columns=[\"ts\",\"market_cap\"])\n",
    "df[\"date\"] = pd.to_datetime(df.ts, unit=\"ms\")\n",
    "df.set_index(\"date\", inplace=True)\n",
    "print(df.head())"
   ]
  },
  {
   "cell_type": "code",
   "execution_count": null,
   "metadata": {},
   "outputs": [
    {
     "data": {
      "text/html": [
       "<div>\n",
       "<style scoped>\n",
       "    .dataframe tbody tr th:only-of-type {\n",
       "        vertical-align: middle;\n",
       "    }\n",
       "\n",
       "    .dataframe tbody tr th {\n",
       "        vertical-align: top;\n",
       "    }\n",
       "\n",
       "    .dataframe thead th {\n",
       "        text-align: right;\n",
       "    }\n",
       "</style>\n",
       "<table border=\"1\" class=\"dataframe\">\n",
       "  <thead>\n",
       "    <tr style=\"text-align: right;\">\n",
       "      <th></th>\n",
       "      <th>price</th>\n",
       "      <th>market_cap</th>\n",
       "    </tr>\n",
       "    <tr>\n",
       "      <th>date</th>\n",
       "      <th></th>\n",
       "      <th></th>\n",
       "    </tr>\n",
       "  </thead>\n",
       "  <tbody>\n",
       "    <tr>\n",
       "      <th>2024-10-01</th>\n",
       "      <td>63243.275325</td>\n",
       "      <td>1.249578e+12</td>\n",
       "    </tr>\n",
       "    <tr>\n",
       "      <th>2024-10-02</th>\n",
       "      <td>60872.668544</td>\n",
       "      <td>1.202927e+12</td>\n",
       "    </tr>\n",
       "    <tr>\n",
       "      <th>2024-10-03</th>\n",
       "      <td>60655.559792</td>\n",
       "      <td>1.198652e+12</td>\n",
       "    </tr>\n",
       "    <tr>\n",
       "      <th>2024-10-04</th>\n",
       "      <td>60727.863952</td>\n",
       "      <td>1.200491e+12</td>\n",
       "    </tr>\n",
       "    <tr>\n",
       "      <th>2024-10-05</th>\n",
       "      <td>62103.010473</td>\n",
       "      <td>1.226663e+12</td>\n",
       "    </tr>\n",
       "    <tr>\n",
       "      <th>...</th>\n",
       "      <td>...</td>\n",
       "      <td>...</td>\n",
       "    </tr>\n",
       "    <tr>\n",
       "      <th>2025-05-23</th>\n",
       "      <td>111560.356938</td>\n",
       "      <td>2.214712e+12</td>\n",
       "    </tr>\n",
       "    <tr>\n",
       "      <th>2025-05-24</th>\n",
       "      <td>107216.668569</td>\n",
       "      <td>2.131596e+12</td>\n",
       "    </tr>\n",
       "    <tr>\n",
       "      <th>2025-05-25</th>\n",
       "      <td>107831.363744</td>\n",
       "      <td>2.142540e+12</td>\n",
       "    </tr>\n",
       "    <tr>\n",
       "      <th>2025-05-26</th>\n",
       "      <td>108861.810377</td>\n",
       "      <td>2.163073e+12</td>\n",
       "    </tr>\n",
       "    <tr>\n",
       "      <th>2025-05-27</th>\n",
       "      <td>109377.715133</td>\n",
       "      <td>2.173060e+12</td>\n",
       "    </tr>\n",
       "  </tbody>\n",
       "</table>\n",
       "<p>239 rows × 2 columns</p>\n",
       "</div>"
      ],
      "text/plain": [
       "                    price    market_cap\n",
       "date                                   \n",
       "2024-10-01   63243.275325  1.249578e+12\n",
       "2024-10-02   60872.668544  1.202927e+12\n",
       "2024-10-03   60655.559792  1.198652e+12\n",
       "2024-10-04   60727.863952  1.200491e+12\n",
       "2024-10-05   62103.010473  1.226663e+12\n",
       "...                   ...           ...\n",
       "2025-05-23  111560.356938  2.214712e+12\n",
       "2025-05-24  107216.668569  2.131596e+12\n",
       "2025-05-25  107831.363744  2.142540e+12\n",
       "2025-05-26  108861.810377  2.163073e+12\n",
       "2025-05-27  109377.715133  2.173060e+12\n",
       "\n",
       "[239 rows x 2 columns]"
      ]
     },
     "execution_count": 7,
     "metadata": {},
     "output_type": "execute_result"
    }
   ],
   "source": [
    "df"
   ]
  },
  {
   "cell_type": "code",
   "execution_count": null,
   "id": "aa541d53-718c-46ed-a5a7-9716efc876e4",
   "metadata": {},
   "outputs": [
    {
     "name": "stderr",
     "output_type": "stream",
     "text": [
      "<ipython-input-8-b51f6185a4f2>:31: DeprecationWarning: datetime.datetime.utcnow() is deprecated and scheduled for removal in a future version. Use timezone-aware objects to represent datetimes in UTC: datetime.datetime.now(datetime.UTC).\n",
      "  end = int(datetime.utcnow().timestamp())\n"
     ]
    },
    {
     "ename": "KeyError",
     "evalue": "'market_caps'",
     "output_type": "error",
     "traceback": [
      "\u001b[31m---------------------------------------------------------------------------\u001b[39m",
      "\u001b[31mKeyError\u001b[39m                                  Traceback (most recent call last)",
      "\u001b[36mCell\u001b[39m\u001b[36m \u001b[39m\u001b[32mIn[8]\u001b[39m\u001b[32m, line 38\u001b[39m\n\u001b[32m     33\u001b[39m url = (\n\u001b[32m     34\u001b[39m     \u001b[33m\"\u001b[39m\u001b[33mhttps://api.coingecko.com/api/v3/coins/ripple\u001b[39m\u001b[33m\"\u001b[39m\n\u001b[32m     35\u001b[39m     \u001b[33mf\u001b[39m\u001b[33m\"\u001b[39m\u001b[33m/market_chart/range?vs_currency=usd&from=\u001b[39m\u001b[38;5;132;01m{\u001b[39;00mstart\u001b[38;5;132;01m}\u001b[39;00m\u001b[33m&to=\u001b[39m\u001b[38;5;132;01m{\u001b[39;00mend\u001b[38;5;132;01m}\u001b[39;00m\u001b[33m\"\u001b[39m\n\u001b[32m     36\u001b[39m )\n\u001b[32m     37\u001b[39m data = requests.get(url).json()\n\u001b[32m---> \u001b[39m\u001b[32m38\u001b[39m df = pd.DataFrame(\u001b[43mdata\u001b[49m\u001b[43m[\u001b[49m\u001b[33;43m\"\u001b[39;49m\u001b[33;43mmarket_caps\u001b[39;49m\u001b[33;43m\"\u001b[39;49m\u001b[43m]\u001b[49m, columns=[\u001b[33m\"\u001b[39m\u001b[33mts\u001b[39m\u001b[33m\"\u001b[39m, \u001b[33m\"\u001b[39m\u001b[33mmarket_cap\u001b[39m\u001b[33m\"\u001b[39m])\n\u001b[32m     39\u001b[39m df[\u001b[33m\"\u001b[39m\u001b[33mdate\u001b[39m\u001b[33m\"\u001b[39m] = pd.to_datetime(df.ts, unit=\u001b[33m\"\u001b[39m\u001b[33mms\u001b[39m\u001b[33m\"\u001b[39m)\n\u001b[32m     40\u001b[39m df.set_index(\u001b[33m\"\u001b[39m\u001b[33mdate\u001b[39m\u001b[33m\"\u001b[39m, inplace=\u001b[38;5;28;01mTrue\u001b[39;00m)\n",
      "\u001b[31mKeyError\u001b[39m: 'market_caps'"
     ]
    }
   ],
   "source": [
    "# import requests, pandas as pd\n",
    "# from datetime import datetime\n",
    "\n",
    "# # 1) One-liner endpoint: everything, daily granularity\n",
    "# from_ts = int(datetime(2024, 10, 1).timestamp())  # 1388534400\n",
    "# to_ts = int(datetime.now().timestamp())  # \"today\"\n",
    "\n",
    "# url = \"https://api.coingecko.com/api/v3/coins/bitcoin/market_chart/range\"\n",
    "# params = {\"vs_currency\": \"usd\", \"from\": from_ts, \"to\": to_ts}\n",
    "\n",
    "# data = requests.get(url, params=params, timeout=30).json()\n",
    "\n",
    "# # 2) Convert to tidy DataFrame ---------------------------------------------\n",
    "# df_price = pd.DataFrame(data[\"prices\"], columns=[\"timestamp\", \"price\"])\n",
    "# df_mcap = pd.DataFrame(data[\"market_caps\"], columns=[\"timestamp\", \"market_cap\"])\n",
    "# df = df_price.merge(df_mcap, on=\"timestamp\")\n",
    "# df[\"date\"] = pd.to_datetime(df[\"timestamp\"], unit=\"ms\").dt.date\n",
    "# df = df[[\"date\", \"price\", \"market_cap\"]].set_index(\"date\")\n",
    "\n",
    "# # 3) Inspect & (optionally) save -------------------------------------------\n",
    "# print(df.head())\n",
    "# df.to_csv(\"btc_price_mcap_2010-2025_daily.csv\")\n",
    "\n",
    "\n",
    "# Public API users are limited to querying historical data within the past 365 days. Upgrade to a paid plan to enjoy full historical data access: https://www.coingecko.com/en/api/pricing.\n",
    "\n",
    "import requests, pandas as pd\n",
    "from datetime import datetime\n",
    "\n",
    "start = int(datetime(2021, 1, 1).timestamp())\n",
    "end = int(datetime.utcnow().timestamp())\n",
    "\n",
    "url = (\n",
    "    \"https://api.coingecko.com/api/v3/coins/ripple\"\n",
    "    f\"/market_chart/range?vs_currency=usd&from={start}&to={end}\"\n",
    ")\n",
    "data = requests.get(url).json()\n",
    "df = pd.DataFrame(data[\"market_caps\"], columns=[\"ts\", \"market_cap\"])\n",
    "df[\"date\"] = pd.to_datetime(df.ts, unit=\"ms\")\n",
    "df.set_index(\"date\", inplace=True)\n",
    "print(df.head())"
   ]
  },
  {
   "cell_type": "code",
   "execution_count": null,
   "id": "b975c38b-0ee3-4ae4-9ec5-724723998c5d",
   "metadata": {},
   "outputs": [
    {
     "name": "stdout",
     "output_type": "stream",
     "text": [
      "Returned keys: dict_keys(['error'])\n"
     ]
    },
    {
     "name": "stderr",
     "output_type": "stream",
     "text": [
      "<ipython-input-11-f992b4f91c9c>:35: DeprecationWarning: datetime.datetime.utcnow() is deprecated and scheduled for removal in a future version. Use timezone-aware objects to represent datetimes in UTC: datetime.datetime.now(datetime.UTC).\n",
      "  end     = int(datetime.utcnow().timestamp())\n"
     ]
    },
    {
     "ename": "RuntimeError",
     "evalue": "No 'market_caps' field! Check coin ID and endpoint.",
     "output_type": "error",
     "traceback": [
      "\u001b[31m---------------------------------------------------------------------------\u001b[39m",
      "\u001b[31mRuntimeError\u001b[39m                              Traceback (most recent call last)",
      "\u001b[36mCell\u001b[39m\u001b[36m \u001b[39m\u001b[32mIn[11]\u001b[39m\u001b[32m, line 50\u001b[39m\n\u001b[32m     48\u001b[39m caps = resp.get(\u001b[33m\"\u001b[39m\u001b[33mmarket_caps\u001b[39m\u001b[33m\"\u001b[39m)\n\u001b[32m     49\u001b[39m \u001b[38;5;28;01mif\u001b[39;00m caps \u001b[38;5;129;01mis\u001b[39;00m \u001b[38;5;28;01mNone\u001b[39;00m:\n\u001b[32m---> \u001b[39m\u001b[32m50\u001b[39m     \u001b[38;5;28;01mraise\u001b[39;00m \u001b[38;5;167;01mRuntimeError\u001b[39;00m(\u001b[33m\"\u001b[39m\u001b[33mNo \u001b[39m\u001b[33m'\u001b[39m\u001b[33mmarket_caps\u001b[39m\u001b[33m'\u001b[39m\u001b[33m field! Check coin ID and endpoint.\u001b[39m\u001b[33m\"\u001b[39m)\n\u001b[32m     52\u001b[39m df = pd.DataFrame(caps, columns=[\u001b[33m\"\u001b[39m\u001b[33mts\u001b[39m\u001b[33m\"\u001b[39m,\u001b[33m\"\u001b[39m\u001b[33mmarket_cap_usd\u001b[39m\u001b[33m\"\u001b[39m])\n\u001b[32m     53\u001b[39m df[\u001b[33m\"\u001b[39m\u001b[33mdate\u001b[39m\u001b[33m\"\u001b[39m] = pd.to_datetime(df[\u001b[33m\"\u001b[39m\u001b[33mts\u001b[39m\u001b[33m\"\u001b[39m], unit=\u001b[33m\"\u001b[39m\u001b[33mms\u001b[39m\u001b[33m\"\u001b[39m)\n",
      "\u001b[31mRuntimeError\u001b[39m: No 'market_caps' field! Check coin ID and endpoint."
     ]
    }
   ],
   "source": [
    "# import requests, pandas as pd\n",
    "# from datetime import datetime\n",
    "\n",
    "# # 1) One-liner endpoint: everything, daily granularity\n",
    "# from_ts = int(datetime(2024, 10, 1).timestamp())  # 1388534400\n",
    "# to_ts = int(datetime.now().timestamp())  # \"today\"\n",
    "\n",
    "# url = \"https://api.coingecko.com/api/v3/coins/bitcoin/market_chart/range\"\n",
    "# params = {\"vs_currency\": \"usd\", \"from\": from_ts, \"to\": to_ts}\n",
    "\n",
    "# data = requests.get(url, params=params, timeout=30).json()\n",
    "\n",
    "# # 2) Convert to tidy DataFrame ---------------------------------------------\n",
    "# df_price = pd.DataFrame(data[\"prices\"], columns=[\"timestamp\", \"price\"])\n",
    "# df_mcap = pd.DataFrame(data[\"market_caps\"], columns=[\"timestamp\", \"market_cap\"])\n",
    "# df = df_price.merge(df_mcap, on=\"timestamp\")\n",
    "# df[\"date\"] = pd.to_datetime(df[\"timestamp\"], unit=\"ms\").dt.date\n",
    "# df = df[[\"date\", \"price\", \"market_cap\"]].set_index(\"date\")\n",
    "\n",
    "# # 3) Inspect & (optionally) save -------------------------------------------\n",
    "# print(df.head())\n",
    "# df.to_csv(\"btc_price_mcap_2010-2025_daily.csv\")\n",
    "\n",
    "\n",
    "# Public API users are limited to querying historical data within the past 365 days. Upgrade to a paid plan to enjoy full historical data access: https://www.coingecko.com/en/api/pricing.\n",
    "\n",
    "import requests\n",
    "import pandas as pd\n",
    "from datetime import datetime\n",
    "\n",
    "# 1. Set up\n",
    "coin_id = \"xrp\"  # Coingecko ID, not \"xrp\"\n",
    "vs      = \"usd\"\n",
    "start   = int(datetime(2021,1,1).timestamp())\n",
    "end     = int(datetime.utcnow().timestamp())\n",
    "\n",
    "url = (\n",
    "    f\"https://api.coingecko.com/api/v3/coins/{coin_id}\"\n",
    "    f\"/market_chart/range?vs_currency={vs}&from={start}&to={end}\"\n",
    ")\n",
    "\n",
    "# 2. Fetch & inspect available keys\n",
    "resp = requests.get(url, timeout=30).json()\n",
    "print(\"Returned keys:\", resp.keys())\n",
    "# You should see: dict_keys(['prices','market_caps','total_volumes'])\n",
    "\n",
    "# 3. Build DataFrame from market_caps\n",
    "caps = resp.get(\"market_caps\")\n",
    "if caps is None:\n",
    "    raise RuntimeError(\"No 'market_caps' field! Check coin ID and endpoint.\")\n",
    "\n",
    "df = pd.DataFrame(caps, columns=[\"ts\",\"market_cap_usd\"])\n",
    "df[\"date\"] = pd.to_datetime(df[\"ts\"], unit=\"ms\")\n",
    "df.set_index(\"date\", inplace=True)\n",
    "\n",
    "print(df.head())"
   ]
  },
  {
   "cell_type": "code",
   "execution_count": null,
   "id": "5b86fe5e-28b6-4477-928d-259089102ef1",
   "metadata": {},
   "outputs": [
    {
     "name": "stderr",
     "output_type": "stream",
     "text": [
      "<ipython-input-12-c42ca61386f7>:35: DeprecationWarning: datetime.datetime.utcnow() is deprecated and scheduled for removal in a future version. Use timezone-aware objects to represent datetimes in UTC: datetime.datetime.now(datetime.UTC).\n",
      "  end_ts = int(datetime.utcnow().timestamp())\n"
     ]
    },
    {
     "ename": "RuntimeError",
     "evalue": "No market_caps for ripple. Keys: dict_keys(['error'])",
     "output_type": "error",
     "traceback": [
      "\u001b[31m---------------------------------------------------------------------------\u001b[39m",
      "\u001b[31mRuntimeError\u001b[39m                              Traceback (most recent call last)",
      "\u001b[36mCell\u001b[39m\u001b[36m \u001b[39m\u001b[32mIn[12]\u001b[39m\u001b[32m, line 50\u001b[39m\n\u001b[32m     46\u001b[39m     \u001b[38;5;28;01mreturn\u001b[39;00m df.set_index(\u001b[33m\"\u001b[39m\u001b[33mdate\u001b[39m\u001b[33m\"\u001b[39m)[[\u001b[33m\"\u001b[39m\u001b[33mmarket_cap\u001b[39m\u001b[33m\"\u001b[39m]]\n\u001b[32m     49\u001b[39m \u001b[38;5;28;01mif\u001b[39;00m \u001b[34m__name__\u001b[39m == \u001b[33m\"\u001b[39m\u001b[33m__main__\u001b[39m\u001b[33m\"\u001b[39m:\n\u001b[32m---> \u001b[39m\u001b[32m50\u001b[39m     df = \u001b[43mfetch_market_caps\u001b[49m\u001b[43m(\u001b[49m\u001b[33;43m\"\u001b[39;49m\u001b[33;43mripple\u001b[39;49m\u001b[33;43m\"\u001b[39;49m\u001b[43m)\u001b[49m\n\u001b[32m     51\u001b[39m     df.to_csv(\u001b[33m\"\u001b[39m\u001b[33mxrp_market_cap_2021_today.csv\u001b[39m\u001b[33m\"\u001b[39m)\n\u001b[32m     52\u001b[39m     \u001b[38;5;28mprint\u001b[39m(df.head())\n",
      "\u001b[36mCell\u001b[39m\u001b[36m \u001b[39m\u001b[32mIn[12]\u001b[39m\u001b[32m, line 43\u001b[39m, in \u001b[36mfetch_market_caps\u001b[39m\u001b[34m(coin_id, vs, start_date)\u001b[39m\n\u001b[32m     41\u001b[39m caps = data.get(\u001b[33m\"\u001b[39m\u001b[33mmarket_caps\u001b[39m\u001b[33m\"\u001b[39m)\n\u001b[32m     42\u001b[39m \u001b[38;5;28;01mif\u001b[39;00m caps \u001b[38;5;129;01mis\u001b[39;00m \u001b[38;5;28;01mNone\u001b[39;00m:\n\u001b[32m---> \u001b[39m\u001b[32m43\u001b[39m     \u001b[38;5;28;01mraise\u001b[39;00m \u001b[38;5;167;01mRuntimeError\u001b[39;00m(\u001b[33mf\u001b[39m\u001b[33m\"\u001b[39m\u001b[33mNo market_caps for \u001b[39m\u001b[38;5;132;01m{\u001b[39;00mcoin_id\u001b[38;5;132;01m}\u001b[39;00m\u001b[33m. Keys: \u001b[39m\u001b[38;5;132;01m{\u001b[39;00mdata.keys()\u001b[38;5;132;01m}\u001b[39;00m\u001b[33m\"\u001b[39m)\n\u001b[32m     44\u001b[39m df = pd.DataFrame(caps, columns=[\u001b[33m\"\u001b[39m\u001b[33mtimestamp\u001b[39m\u001b[33m\"\u001b[39m, \u001b[33m\"\u001b[39m\u001b[33mmarket_cap\u001b[39m\u001b[33m\"\u001b[39m])\n\u001b[32m     45\u001b[39m df[\u001b[33m\"\u001b[39m\u001b[33mdate\u001b[39m\u001b[33m\"\u001b[39m] = pd.to_datetime(df[\u001b[33m\"\u001b[39m\u001b[33mtimestamp\u001b[39m\u001b[33m\"\u001b[39m], unit=\u001b[33m\"\u001b[39m\u001b[33mms\u001b[39m\u001b[33m\"\u001b[39m)\n",
      "\u001b[31mRuntimeError\u001b[39m: No market_caps for ripple. Keys: dict_keys(['error'])"
     ]
    }
   ],
   "source": [
    "# import requests, pandas as pd\n",
    "# from datetime import datetime\n",
    "\n",
    "# # 1) One-liner endpoint: everything, daily granularity\n",
    "# from_ts = int(datetime(2024, 10, 1).timestamp())  # 1388534400\n",
    "# to_ts = int(datetime.now().timestamp())  # \"today\"\n",
    "\n",
    "# url = \"https://api.coingecko.com/api/v3/coins/bitcoin/market_chart/range\"\n",
    "# params = {\"vs_currency\": \"usd\", \"from\": from_ts, \"to\": to_ts}\n",
    "\n",
    "# data = requests.get(url, params=params, timeout=30).json()\n",
    "\n",
    "# # 2) Convert to tidy DataFrame ---------------------------------------------\n",
    "# df_price = pd.DataFrame(data[\"prices\"], columns=[\"timestamp\", \"price\"])\n",
    "# df_mcap = pd.DataFrame(data[\"market_caps\"], columns=[\"timestamp\", \"market_cap\"])\n",
    "# df = df_price.merge(df_mcap, on=\"timestamp\")\n",
    "# df[\"date\"] = pd.to_datetime(df[\"timestamp\"], unit=\"ms\").dt.date\n",
    "# df = df[[\"date\", \"price\", \"market_cap\"]].set_index(\"date\")\n",
    "\n",
    "# # 3) Inspect & (optionally) save -------------------------------------------\n",
    "# print(df.head())\n",
    "# df.to_csv(\"btc_price_mcap_2010-2025_daily.csv\")\n",
    "\n",
    "\n",
    "# Public API users are limited to querying historical data within the past 365 days. Upgrade to a paid plan to enjoy full historical data access: https://www.coingecko.com/en/api/pricing.\n",
    "\n",
    "import requests, pandas as pd\n",
    "from datetime import datetime\n",
    "\n",
    "coin_id = \"ripple\"\n",
    "\n",
    "\n",
    "def fetch_market_caps(coin_id, vs=\"usd\", start_date=\"2021-01-01\"):\n",
    "    start_ts = int(pd.to_datetime(start_date).timestamp())\n",
    "    end_ts = int(datetime.utcnow().timestamp())\n",
    "    url = (\n",
    "        f\"https://api.coingecko.com/api/v3/coins/{coin_id}\"\n",
    "        f\"/market_chart/range?vs_currency={vs}&from={start_ts}&to={end_ts}\"\n",
    "    )\n",
    "    data = requests.get(url, timeout=30).json()\n",
    "    caps = data.get(\"market_caps\")\n",
    "    if caps is None:\n",
    "        raise RuntimeError(f\"No market_caps for {coin_id}. Keys: {data.keys()}\")\n",
    "    df = pd.DataFrame(caps, columns=[\"timestamp\", \"market_cap\"])\n",
    "    df[\"date\"] = pd.to_datetime(df[\"timestamp\"], unit=\"ms\")\n",
    "    return df.set_index(\"date\")[[\"market_cap\"]]\n",
    "\n",
    "\n",
    "if __name__ == \"__main__\":\n",
    "    df = fetch_market_caps(\"ripple\")\n",
    "    df.to_csv(\"xrp_market_cap_2021_today.csv\")\n",
    "    print(df.head())"
   ]
  },
  {
   "cell_type": "code",
   "execution_count": null,
   "id": "7d121fc2-dae1-4e46-8b38-f8bd7966ce38",
   "metadata": {},
   "outputs": [
    {
     "name": "stderr",
     "output_type": "stream",
     "text": [
      "<ipython-input-13-bf7843d0cbca>:35: DeprecationWarning: datetime.datetime.utcnow() is deprecated and scheduled for removal in a future version. Use timezone-aware objects to represent datetimes in UTC: datetime.datetime.now(datetime.UTC).\n",
      "  end_ts = int(datetime.utcnow().timestamp())\n"
     ]
    },
    {
     "ename": "RuntimeError",
     "evalue": "No market_caps for xrp. Keys: dict_keys(['error'])",
     "output_type": "error",
     "traceback": [
      "\u001b[31m---------------------------------------------------------------------------\u001b[39m",
      "\u001b[31mRuntimeError\u001b[39m                              Traceback (most recent call last)",
      "\u001b[36mCell\u001b[39m\u001b[36m \u001b[39m\u001b[32mIn[13]\u001b[39m\u001b[32m, line 50\u001b[39m\n\u001b[32m     46\u001b[39m     \u001b[38;5;28;01mreturn\u001b[39;00m df.set_index(\u001b[33m\"\u001b[39m\u001b[33mdate\u001b[39m\u001b[33m\"\u001b[39m)[[\u001b[33m\"\u001b[39m\u001b[33mmarket_cap\u001b[39m\u001b[33m\"\u001b[39m]]\n\u001b[32m     49\u001b[39m \u001b[38;5;28;01mif\u001b[39;00m \u001b[34m__name__\u001b[39m == \u001b[33m\"\u001b[39m\u001b[33m__main__\u001b[39m\u001b[33m\"\u001b[39m:\n\u001b[32m---> \u001b[39m\u001b[32m50\u001b[39m     df = \u001b[43mfetch_market_caps\u001b[49m\u001b[43m(\u001b[49m\u001b[33;43m\"\u001b[39;49m\u001b[33;43mxrp\u001b[39;49m\u001b[33;43m\"\u001b[39;49m\u001b[43m)\u001b[49m\n\u001b[32m     51\u001b[39m     df.to_csv(\u001b[33m\"\u001b[39m\u001b[33mxrp_market_cap_2021_today.csv\u001b[39m\u001b[33m\"\u001b[39m)\n\u001b[32m     52\u001b[39m     \u001b[38;5;28mprint\u001b[39m(df.head())\n",
      "\u001b[36mCell\u001b[39m\u001b[36m \u001b[39m\u001b[32mIn[13]\u001b[39m\u001b[32m, line 43\u001b[39m, in \u001b[36mfetch_market_caps\u001b[39m\u001b[34m(coin_id, vs, start_date)\u001b[39m\n\u001b[32m     41\u001b[39m caps = data.get(\u001b[33m\"\u001b[39m\u001b[33mmarket_caps\u001b[39m\u001b[33m\"\u001b[39m)\n\u001b[32m     42\u001b[39m \u001b[38;5;28;01mif\u001b[39;00m caps \u001b[38;5;129;01mis\u001b[39;00m \u001b[38;5;28;01mNone\u001b[39;00m:\n\u001b[32m---> \u001b[39m\u001b[32m43\u001b[39m     \u001b[38;5;28;01mraise\u001b[39;00m \u001b[38;5;167;01mRuntimeError\u001b[39;00m(\u001b[33mf\u001b[39m\u001b[33m\"\u001b[39m\u001b[33mNo market_caps for \u001b[39m\u001b[38;5;132;01m{\u001b[39;00mcoin_id\u001b[38;5;132;01m}\u001b[39;00m\u001b[33m. Keys: \u001b[39m\u001b[38;5;132;01m{\u001b[39;00mdata.keys()\u001b[38;5;132;01m}\u001b[39;00m\u001b[33m\"\u001b[39m)\n\u001b[32m     44\u001b[39m df = pd.DataFrame(caps, columns=[\u001b[33m\"\u001b[39m\u001b[33mtimestamp\u001b[39m\u001b[33m\"\u001b[39m, \u001b[33m\"\u001b[39m\u001b[33mmarket_cap\u001b[39m\u001b[33m\"\u001b[39m])\n\u001b[32m     45\u001b[39m df[\u001b[33m\"\u001b[39m\u001b[33mdate\u001b[39m\u001b[33m\"\u001b[39m] = pd.to_datetime(df[\u001b[33m\"\u001b[39m\u001b[33mtimestamp\u001b[39m\u001b[33m\"\u001b[39m], unit=\u001b[33m\"\u001b[39m\u001b[33mms\u001b[39m\u001b[33m\"\u001b[39m)\n",
      "\u001b[31mRuntimeError\u001b[39m: No market_caps for xrp. Keys: dict_keys(['error'])"
     ]
    }
   ],
   "source": [
    "# import requests, pandas as pd\n",
    "# from datetime import datetime\n",
    "\n",
    "# # 1) One-liner endpoint: everything, daily granularity\n",
    "# from_ts = int(datetime(2024, 10, 1).timestamp())  # 1388534400\n",
    "# to_ts = int(datetime.now().timestamp())  # \"today\"\n",
    "\n",
    "# url = \"https://api.coingecko.com/api/v3/coins/bitcoin/market_chart/range\"\n",
    "# params = {\"vs_currency\": \"usd\", \"from\": from_ts, \"to\": to_ts}\n",
    "\n",
    "# data = requests.get(url, params=params, timeout=30).json()\n",
    "\n",
    "# # 2) Convert to tidy DataFrame ---------------------------------------------\n",
    "# df_price = pd.DataFrame(data[\"prices\"], columns=[\"timestamp\", \"price\"])\n",
    "# df_mcap = pd.DataFrame(data[\"market_caps\"], columns=[\"timestamp\", \"market_cap\"])\n",
    "# df = df_price.merge(df_mcap, on=\"timestamp\")\n",
    "# df[\"date\"] = pd.to_datetime(df[\"timestamp\"], unit=\"ms\").dt.date\n",
    "# df = df[[\"date\", \"price\", \"market_cap\"]].set_index(\"date\")\n",
    "\n",
    "# # 3) Inspect & (optionally) save -------------------------------------------\n",
    "# print(df.head())\n",
    "# df.to_csv(\"btc_price_mcap_2010-2025_daily.csv\")\n",
    "\n",
    "\n",
    "# Public API users are limited to querying historical data within the past 365 days. Upgrade to a paid plan to enjoy full historical data access: https://www.coingecko.com/en/api/pricing.\n",
    "\n",
    "import requests, pandas as pd\n",
    "from datetime import datetime\n",
    "\n",
    "coin_id = \"xrp\"\n",
    "\n",
    "\n",
    "def fetch_market_caps(coin_id, vs=\"usd\", start_date=\"2021-01-01\"):\n",
    "    start_ts = int(pd.to_datetime(start_date).timestamp())\n",
    "    end_ts = int(datetime.utcnow().timestamp())\n",
    "    url = (\n",
    "        f\"https://api.coingecko.com/api/v3/coins/{coin_id}\"\n",
    "        f\"/market_chart/range?vs_currency={vs}&from={start_ts}&to={end_ts}\"\n",
    "    )\n",
    "    data = requests.get(url, timeout=30).json()\n",
    "    caps = data.get(\"market_caps\")\n",
    "    if caps is None:\n",
    "        raise RuntimeError(f\"No market_caps for {coin_id}. Keys: {data.keys()}\")\n",
    "    df = pd.DataFrame(caps, columns=[\"timestamp\", \"market_cap\"])\n",
    "    df[\"date\"] = pd.to_datetime(df[\"timestamp\"], unit=\"ms\")\n",
    "    return df.set_index(\"date\")[[\"market_cap\"]]\n",
    "\n",
    "\n",
    "if __name__ == \"__main__\":\n",
    "    df = fetch_market_caps(\"xrp\")\n",
    "    df.to_csv(\"xrp_market_cap_2021_today.csv\")\n",
    "    print(df.head())"
   ]
  },
  {
   "cell_type": "code",
   "execution_count": null,
   "metadata": {},
   "outputs": [
    {
     "name": "stdout",
     "output_type": "stream",
     "text": [
      "[{'id': 'binance-peg-xrp', 'symbol': 'xrp', 'name': 'Binance-Peg XRP'}, {'id': 'harrypotterobamapacman8inu', 'symbol': 'xrp', 'name': 'HarryPotterObamaPacMan8Inu'}, {'id': 'ripple', 'symbol': 'xrp', 'name': 'XRP'}, {'id': 'warioxrpdumbledoreyugioh69inu', 'symbol': 'xrp', 'name': 'WarioXRPDumbledoreYugioh69Inu'}]\n"
     ]
    }
   ],
   "source": [
    "import requests\n",
    "\n",
    "coins = requests.get(\"https://api.coingecko.com/api/v3/coins/list\").json()\n",
    "# find any entries matching “xrp”\n",
    "matches = [c for c in coins\n",
    "           if c[\"symbol\"].lower() == \"xrp\" or c[\"id\"].lower() == \"xrp\"]\n",
    "print(matches)\n",
    "\n"
   ]
  },
  {
   "cell_type": "code",
   "execution_count": null,
   "id": "b1e09dec-5e7d-43d1-93e7-862aad526d81",
   "metadata": {},
   "outputs": [
    {
     "name": "stderr",
     "output_type": "stream",
     "text": [
      "<ipython-input-16-972bb09678d7>:35: DeprecationWarning: datetime.datetime.utcnow() is deprecated and scheduled for removal in a future version. Use timezone-aware objects to represent datetimes in UTC: datetime.datetime.now(datetime.UTC).\n",
      "  end_ts = int(datetime.utcnow().timestamp())\n"
     ]
    },
    {
     "name": "stdout",
     "output_type": "stream",
     "text": [
      "              market_cap\n",
      "date                    \n",
      "2025-01-01  1.194401e+11\n",
      "2025-01-02  1.329892e+11\n",
      "2025-01-03  1.381149e+11\n",
      "2025-01-04  1.409047e+11\n",
      "2025-01-05  1.391715e+11\n"
     ]
    }
   ],
   "source": [
    "# import requests, pandas as pd\n",
    "# from datetime import datetime\n",
    "\n",
    "# # 1) One-liner endpoint: everything, daily granularity\n",
    "# from_ts = int(datetime(2024, 10, 1).timestamp())  # 1388534400\n",
    "# to_ts = int(datetime.now().timestamp())  # \"today\"\n",
    "\n",
    "# url = \"https://api.coingecko.com/api/v3/coins/bitcoin/market_chart/range\"\n",
    "# params = {\"vs_currency\": \"usd\", \"from\": from_ts, \"to\": to_ts}\n",
    "\n",
    "# data = requests.get(url, params=params, timeout=30).json()\n",
    "\n",
    "# # 2) Convert to tidy DataFrame ---------------------------------------------\n",
    "# df_price = pd.DataFrame(data[\"prices\"], columns=[\"timestamp\", \"price\"])\n",
    "# df_mcap = pd.DataFrame(data[\"market_caps\"], columns=[\"timestamp\", \"market_cap\"])\n",
    "# df = df_price.merge(df_mcap, on=\"timestamp\")\n",
    "# df[\"date\"] = pd.to_datetime(df[\"timestamp\"], unit=\"ms\").dt.date\n",
    "# df = df[[\"date\", \"price\", \"market_cap\"]].set_index(\"date\")\n",
    "\n",
    "# # 3) Inspect & (optionally) save -------------------------------------------\n",
    "# print(df.head())\n",
    "# df.to_csv(\"btc_price_mcap_2010-2025_daily.csv\")\n",
    "\n",
    "\n",
    "# Public API users are limited to querying historical data within the past 365 days. Upgrade to a paid plan to enjoy full historical data access: https://www.coingecko.com/en/api/pricing.\n",
    "\n",
    "import requests, pandas as pd\n",
    "from datetime import datetime\n",
    "\n",
    "coin_id = \"ripple\"\n",
    "\n",
    "\n",
    "def fetch_market_caps(coin_id, vs=\"usd\", start_date=\"2025-01-01\"):\n",
    "    start_ts = int(pd.to_datetime(start_date).timestamp())\n",
    "    end_ts = int(datetime.utcnow().timestamp())\n",
    "    url = (\n",
    "        f\"https://api.coingecko.com/api/v3/coins/{coin_id}\"\n",
    "        f\"/market_chart/range?vs_currency={vs}&from={start_ts}&to={end_ts}\"\n",
    "    )\n",
    "    data = requests.get(url, timeout=30).json()\n",
    "    caps = data.get(\"market_caps\")\n",
    "    if caps is None:\n",
    "        raise RuntimeError(f\"No market_caps for {coin_id}. Keys: {data.keys()}\")\n",
    "    df = pd.DataFrame(caps, columns=[\"timestamp\", \"market_cap\"])\n",
    "    df[\"date\"] = pd.to_datetime(df[\"timestamp\"], unit=\"ms\")\n",
    "    return df.set_index(\"date\")[[\"market_cap\"]]\n",
    "\n",
    "\n",
    "if __name__ == \"__main__\":\n",
    "    df = fetch_market_caps(\"ripple\")\n",
    "    df.to_csv(\"xrp_market_cap_2021_today.csv\")\n",
    "    print(df.head())"
   ]
  },
  {
   "cell_type": "code",
   "execution_count": null,
   "id": "ae47114f-ce74-4faa-b858-19dcc16002f8",
   "metadata": {},
   "outputs": [
    {
     "ename": "AttributeError",
     "evalue": "'float' object has no attribute 'timestamp'",
     "output_type": "error",
     "traceback": [
      "\u001b[31m---------------------------------------------------------------------------\u001b[39m",
      "\u001b[31mAttributeError\u001b[39m                            Traceback (most recent call last)",
      "\u001b[36mCell\u001b[39m\u001b[36m \u001b[39m\u001b[32mIn[17]\u001b[39m\u001b[32m, line 50\u001b[39m\n\u001b[32m     46\u001b[39m     \u001b[38;5;28;01mreturn\u001b[39;00m df.set_index(\u001b[33m\"\u001b[39m\u001b[33mdate\u001b[39m\u001b[33m\"\u001b[39m)[[\u001b[33m\"\u001b[39m\u001b[33mmarket_cap\u001b[39m\u001b[33m\"\u001b[39m]]\n\u001b[32m     49\u001b[39m \u001b[38;5;28;01mif\u001b[39;00m \u001b[34m__name__\u001b[39m == \u001b[33m\"\u001b[39m\u001b[33m__main__\u001b[39m\u001b[33m\"\u001b[39m:\n\u001b[32m---> \u001b[39m\u001b[32m50\u001b[39m     df = \u001b[43mfetch_market_caps\u001b[49m\u001b[43m(\u001b[49m\u001b[33;43m\"\u001b[39;49m\u001b[33;43mripple\u001b[39;49m\u001b[33;43m\"\u001b[39;49m\u001b[43m)\u001b[49m\n\u001b[32m     51\u001b[39m     df.to_csv(\u001b[33m\"\u001b[39m\u001b[33mxrp_market_cap_2024_today.csv\u001b[39m\u001b[33m\"\u001b[39m)\n\u001b[32m     52\u001b[39m     \u001b[38;5;28mprint\u001b[39m(df.head())\n",
      "\u001b[36mCell\u001b[39m\u001b[36m \u001b[39m\u001b[32mIn[17]\u001b[39m\u001b[32m, line 35\u001b[39m, in \u001b[36mfetch_market_caps\u001b[39m\u001b[34m(coin_id, vs, start_date)\u001b[39m\n\u001b[32m     33\u001b[39m \u001b[38;5;28;01mdef\u001b[39;00m\u001b[38;5;250m \u001b[39m\u001b[34mfetch_market_caps\u001b[39m(coin_id, vs=\u001b[33m\"\u001b[39m\u001b[33musd\u001b[39m\u001b[33m\"\u001b[39m, start_date=\u001b[33m\"\u001b[39m\u001b[33m2024-01-01\u001b[39m\u001b[33m\"\u001b[39m):\n\u001b[32m     34\u001b[39m     start_ts = \u001b[38;5;28mint\u001b[39m(pd.to_datetime(start_date).timestamp())\n\u001b[32m---> \u001b[39m\u001b[32m35\u001b[39m     end_ts = \u001b[38;5;28mint\u001b[39m(\u001b[43mpd\u001b[49m\u001b[43m.\u001b[49m\u001b[43mto_datetime\u001b[49m\u001b[43m(\u001b[49m\u001b[33;43m\"\u001b[39;49m\u001b[33;43m2024-12-31\u001b[39;49m\u001b[33;43m\"\u001b[39;49m\u001b[43m)\u001b[49m\u001b[43m.\u001b[49m\u001b[43mtimestamp\u001b[49m\u001b[43m(\u001b[49m\u001b[43m)\u001b[49m\u001b[43m.\u001b[49m\u001b[43mtimestamp\u001b[49m())\n\u001b[32m     36\u001b[39m     url = (\n\u001b[32m     37\u001b[39m         \u001b[33mf\u001b[39m\u001b[33m\"\u001b[39m\u001b[33mhttps://api.coingecko.com/api/v3/coins/\u001b[39m\u001b[38;5;132;01m{\u001b[39;00mcoin_id\u001b[38;5;132;01m}\u001b[39;00m\u001b[33m\"\u001b[39m\n\u001b[32m     38\u001b[39m         \u001b[33mf\u001b[39m\u001b[33m\"\u001b[39m\u001b[33m/market_chart/range?vs_currency=\u001b[39m\u001b[38;5;132;01m{\u001b[39;00mvs\u001b[38;5;132;01m}\u001b[39;00m\u001b[33m&from=\u001b[39m\u001b[38;5;132;01m{\u001b[39;00mstart_ts\u001b[38;5;132;01m}\u001b[39;00m\u001b[33m&to=\u001b[39m\u001b[38;5;132;01m{\u001b[39;00mend_ts\u001b[38;5;132;01m}\u001b[39;00m\u001b[33m\"\u001b[39m\n\u001b[32m     39\u001b[39m     )\n\u001b[32m     40\u001b[39m     data = requests.get(url, timeout=\u001b[32m30\u001b[39m).json()\n",
      "\u001b[31mAttributeError\u001b[39m: 'float' object has no attribute 'timestamp'"
     ]
    }
   ],
   "source": [
    "# import requests, pandas as pd\n",
    "# from datetime import datetime\n",
    "\n",
    "# # 1) One-liner endpoint: everything, daily granularity\n",
    "# from_ts = int(datetime(2024, 10, 1).timestamp())  # 1388534400\n",
    "# to_ts = int(datetime.now().timestamp())  # \"today\"\n",
    "\n",
    "# url = \"https://api.coingecko.com/api/v3/coins/bitcoin/market_chart/range\"\n",
    "# params = {\"vs_currency\": \"usd\", \"from\": from_ts, \"to\": to_ts}\n",
    "\n",
    "# data = requests.get(url, params=params, timeout=30).json()\n",
    "\n",
    "# # 2) Convert to tidy DataFrame ---------------------------------------------\n",
    "# df_price = pd.DataFrame(data[\"prices\"], columns=[\"timestamp\", \"price\"])\n",
    "# df_mcap = pd.DataFrame(data[\"market_caps\"], columns=[\"timestamp\", \"market_cap\"])\n",
    "# df = df_price.merge(df_mcap, on=\"timestamp\")\n",
    "# df[\"date\"] = pd.to_datetime(df[\"timestamp\"], unit=\"ms\").dt.date\n",
    "# df = df[[\"date\", \"price\", \"market_cap\"]].set_index(\"date\")\n",
    "\n",
    "# # 3) Inspect & (optionally) save -------------------------------------------\n",
    "# print(df.head())\n",
    "# df.to_csv(\"btc_price_mcap_2010-2025_daily.csv\")\n",
    "\n",
    "\n",
    "# Public API users are limited to querying historical data within the past 365 days. Upgrade to a paid plan to enjoy full historical data access: https://www.coingecko.com/en/api/pricing.\n",
    "\n",
    "import requests, pandas as pd\n",
    "from datetime import datetime\n",
    "\n",
    "coin_id = \"ripple\"\n",
    "\n",
    "\n",
    "def fetch_market_caps(coin_id, vs=\"usd\", start_date=\"2024-01-01\"):\n",
    "    start_ts = int(pd.to_datetime(start_date).timestamp())\n",
    "    end_ts = int(pd.to_datetime(\"2024-12-31\").timestamp().timestamp())\n",
    "    url = (\n",
    "        f\"https://api.coingecko.com/api/v3/coins/{coin_id}\"\n",
    "        f\"/market_chart/range?vs_currency={vs}&from={start_ts}&to={end_ts}\"\n",
    "    )\n",
    "    data = requests.get(url, timeout=30).json()\n",
    "    caps = data.get(\"market_caps\")\n",
    "    if caps is None:\n",
    "        raise RuntimeError(f\"No market_caps for {coin_id}. Keys: {data.keys()}\")\n",
    "    df = pd.DataFrame(caps, columns=[\"timestamp\", \"market_cap\"])\n",
    "    df[\"date\"] = pd.to_datetime(df[\"timestamp\"], unit=\"ms\")\n",
    "    return df.set_index(\"date\")[[\"market_cap\"]]\n",
    "\n",
    "\n",
    "if __name__ == \"__main__\":\n",
    "    df = fetch_market_caps(\"ripple\")\n",
    "    df.to_csv(\"xrp_market_cap_2024_today.csv\")\n",
    "    print(df.head())"
   ]
  },
  {
   "cell_type": "code",
   "execution_count": null,
   "id": "8db37a9e-f53a-4ce5-91e6-e649cbb64761",
   "metadata": {},
   "outputs": [
    {
     "ename": "RuntimeError",
     "evalue": "No market_caps for ripple. Keys: dict_keys(['error'])",
     "output_type": "error",
     "traceback": [
      "\u001b[31m---------------------------------------------------------------------------\u001b[39m",
      "\u001b[31mRuntimeError\u001b[39m                              Traceback (most recent call last)",
      "\u001b[36mCell\u001b[39m\u001b[36m \u001b[39m\u001b[32mIn[18]\u001b[39m\u001b[32m, line 50\u001b[39m\n\u001b[32m     46\u001b[39m     \u001b[38;5;28;01mreturn\u001b[39;00m df.set_index(\u001b[33m\"\u001b[39m\u001b[33mdate\u001b[39m\u001b[33m\"\u001b[39m)[[\u001b[33m\"\u001b[39m\u001b[33mmarket_cap\u001b[39m\u001b[33m\"\u001b[39m]]\n\u001b[32m     49\u001b[39m \u001b[38;5;28;01mif\u001b[39;00m \u001b[34m__name__\u001b[39m == \u001b[33m\"\u001b[39m\u001b[33m__main__\u001b[39m\u001b[33m\"\u001b[39m:\n\u001b[32m---> \u001b[39m\u001b[32m50\u001b[39m     df = \u001b[43mfetch_market_caps\u001b[49m\u001b[43m(\u001b[49m\u001b[33;43m\"\u001b[39;49m\u001b[33;43mripple\u001b[39;49m\u001b[33;43m\"\u001b[39;49m\u001b[43m)\u001b[49m\n\u001b[32m     51\u001b[39m     df.to_csv(\u001b[33m\"\u001b[39m\u001b[33mxrp_market_cap_2024_today.csv\u001b[39m\u001b[33m\"\u001b[39m)\n\u001b[32m     52\u001b[39m     \u001b[38;5;28mprint\u001b[39m(df.head())\n",
      "\u001b[36mCell\u001b[39m\u001b[36m \u001b[39m\u001b[32mIn[18]\u001b[39m\u001b[32m, line 43\u001b[39m, in \u001b[36mfetch_market_caps\u001b[39m\u001b[34m(coin_id, vs, start_date)\u001b[39m\n\u001b[32m     41\u001b[39m caps = data.get(\u001b[33m\"\u001b[39m\u001b[33mmarket_caps\u001b[39m\u001b[33m\"\u001b[39m)\n\u001b[32m     42\u001b[39m \u001b[38;5;28;01mif\u001b[39;00m caps \u001b[38;5;129;01mis\u001b[39;00m \u001b[38;5;28;01mNone\u001b[39;00m:\n\u001b[32m---> \u001b[39m\u001b[32m43\u001b[39m     \u001b[38;5;28;01mraise\u001b[39;00m \u001b[38;5;167;01mRuntimeError\u001b[39;00m(\u001b[33mf\u001b[39m\u001b[33m\"\u001b[39m\u001b[33mNo market_caps for \u001b[39m\u001b[38;5;132;01m{\u001b[39;00mcoin_id\u001b[38;5;132;01m}\u001b[39;00m\u001b[33m. Keys: \u001b[39m\u001b[38;5;132;01m{\u001b[39;00mdata.keys()\u001b[38;5;132;01m}\u001b[39;00m\u001b[33m\"\u001b[39m)\n\u001b[32m     44\u001b[39m df = pd.DataFrame(caps, columns=[\u001b[33m\"\u001b[39m\u001b[33mtimestamp\u001b[39m\u001b[33m\"\u001b[39m, \u001b[33m\"\u001b[39m\u001b[33mmarket_cap\u001b[39m\u001b[33m\"\u001b[39m])\n\u001b[32m     45\u001b[39m df[\u001b[33m\"\u001b[39m\u001b[33mdate\u001b[39m\u001b[33m\"\u001b[39m] = pd.to_datetime(df[\u001b[33m\"\u001b[39m\u001b[33mtimestamp\u001b[39m\u001b[33m\"\u001b[39m], unit=\u001b[33m\"\u001b[39m\u001b[33mms\u001b[39m\u001b[33m\"\u001b[39m)\n",
      "\u001b[31mRuntimeError\u001b[39m: No market_caps for ripple. Keys: dict_keys(['error'])"
     ]
    }
   ],
   "source": [
    "# import requests, pandas as pd\n",
    "# from datetime import datetime\n",
    "\n",
    "# # 1) One-liner endpoint: everything, daily granularity\n",
    "# from_ts = int(datetime(2024, 10, 1).timestamp())  # 1388534400\n",
    "# to_ts = int(datetime.now().timestamp())  # \"today\"\n",
    "\n",
    "# url = \"https://api.coingecko.com/api/v3/coins/bitcoin/market_chart/range\"\n",
    "# params = {\"vs_currency\": \"usd\", \"from\": from_ts, \"to\": to_ts}\n",
    "\n",
    "# data = requests.get(url, params=params, timeout=30).json()\n",
    "\n",
    "# # 2) Convert to tidy DataFrame ---------------------------------------------\n",
    "# df_price = pd.DataFrame(data[\"prices\"], columns=[\"timestamp\", \"price\"])\n",
    "# df_mcap = pd.DataFrame(data[\"market_caps\"], columns=[\"timestamp\", \"market_cap\"])\n",
    "# df = df_price.merge(df_mcap, on=\"timestamp\")\n",
    "# df[\"date\"] = pd.to_datetime(df[\"timestamp\"], unit=\"ms\").dt.date\n",
    "# df = df[[\"date\", \"price\", \"market_cap\"]].set_index(\"date\")\n",
    "\n",
    "# # 3) Inspect & (optionally) save -------------------------------------------\n",
    "# print(df.head())\n",
    "# df.to_csv(\"btc_price_mcap_2010-2025_daily.csv\")\n",
    "\n",
    "\n",
    "# Public API users are limited to querying historical data within the past 365 days. Upgrade to a paid plan to enjoy full historical data access: https://www.coingecko.com/en/api/pricing.\n",
    "\n",
    "import requests, pandas as pd\n",
    "from datetime import datetime\n",
    "\n",
    "coin_id = \"ripple\"\n",
    "\n",
    "\n",
    "def fetch_market_caps(coin_id, vs=\"usd\", start_date=\"2024-01-01\"):\n",
    "    start_ts = int(pd.to_datetime(start_date).timestamp())\n",
    "    end_ts = int(pd.to_datetime(\"2024-12-31\").timestamp())\n",
    "    url = (\n",
    "        f\"https://api.coingecko.com/api/v3/coins/{coin_id}\"\n",
    "        f\"/market_chart/range?vs_currency={vs}&from={start_ts}&to={end_ts}\"\n",
    "    )\n",
    "    data = requests.get(url, timeout=30).json()\n",
    "    caps = data.get(\"market_caps\")\n",
    "    if caps is None:\n",
    "        raise RuntimeError(f\"No market_caps for {coin_id}. Keys: {data.keys()}\")\n",
    "    df = pd.DataFrame(caps, columns=[\"timestamp\", \"market_cap\"])\n",
    "    df[\"date\"] = pd.to_datetime(df[\"timestamp\"], unit=\"ms\")\n",
    "    return df.set_index(\"date\")[[\"market_cap\"]]\n",
    "\n",
    "\n",
    "if __name__ == \"__main__\":\n",
    "    df = fetch_market_caps(\"ripple\")\n",
    "    df.to_csv(\"xrp_market_cap_2024_today.csv\")\n",
    "    print(df.head())"
   ]
  },
  {
   "cell_type": "code",
   "execution_count": null,
   "id": "89a2ff0a-d389-4629-9a9c-20b892278495",
   "metadata": {},
   "outputs": [
    {
     "name": "stderr",
     "output_type": "stream",
     "text": [
      "<ipython-input-19-93aff8b2c6b4>:35: DeprecationWarning: datetime.datetime.utcnow() is deprecated and scheduled for removal in a future version. Use timezone-aware objects to represent datetimes in UTC: datetime.datetime.now(datetime.UTC).\n",
      "  end_ts = int(datetime.utcnow().timestamp())\n"
     ]
    },
    {
     "ename": "RuntimeError",
     "evalue": "No market_caps for ripple. Keys: dict_keys(['error'])",
     "output_type": "error",
     "traceback": [
      "\u001b[31m---------------------------------------------------------------------------\u001b[39m",
      "\u001b[31mRuntimeError\u001b[39m                              Traceback (most recent call last)",
      "\u001b[36mCell\u001b[39m\u001b[36m \u001b[39m\u001b[32mIn[19]\u001b[39m\u001b[32m, line 50\u001b[39m\n\u001b[32m     46\u001b[39m     \u001b[38;5;28;01mreturn\u001b[39;00m df.set_index(\u001b[33m\"\u001b[39m\u001b[33mdate\u001b[39m\u001b[33m\"\u001b[39m)[[\u001b[33m\"\u001b[39m\u001b[33mmarket_cap\u001b[39m\u001b[33m\"\u001b[39m]]\n\u001b[32m     49\u001b[39m \u001b[38;5;28;01mif\u001b[39;00m \u001b[34m__name__\u001b[39m == \u001b[33m\"\u001b[39m\u001b[33m__main__\u001b[39m\u001b[33m\"\u001b[39m:\n\u001b[32m---> \u001b[39m\u001b[32m50\u001b[39m     df = \u001b[43mfetch_market_caps\u001b[49m\u001b[43m(\u001b[49m\u001b[33;43m\"\u001b[39;49m\u001b[33;43mripple\u001b[39;49m\u001b[33;43m\"\u001b[39;49m\u001b[43m)\u001b[49m\n\u001b[32m     51\u001b[39m     df.to_csv(\u001b[33m\"\u001b[39m\u001b[33mxrp_market_cap_2024_today.csv\u001b[39m\u001b[33m\"\u001b[39m)\n\u001b[32m     52\u001b[39m     \u001b[38;5;28mprint\u001b[39m(df.head())\n",
      "\u001b[36mCell\u001b[39m\u001b[36m \u001b[39m\u001b[32mIn[19]\u001b[39m\u001b[32m, line 43\u001b[39m, in \u001b[36mfetch_market_caps\u001b[39m\u001b[34m(coin_id, vs, start_date)\u001b[39m\n\u001b[32m     41\u001b[39m caps = data.get(\u001b[33m\"\u001b[39m\u001b[33mmarket_caps\u001b[39m\u001b[33m\"\u001b[39m)\n\u001b[32m     42\u001b[39m \u001b[38;5;28;01mif\u001b[39;00m caps \u001b[38;5;129;01mis\u001b[39;00m \u001b[38;5;28;01mNone\u001b[39;00m:\n\u001b[32m---> \u001b[39m\u001b[32m43\u001b[39m     \u001b[38;5;28;01mraise\u001b[39;00m \u001b[38;5;167;01mRuntimeError\u001b[39;00m(\u001b[33mf\u001b[39m\u001b[33m\"\u001b[39m\u001b[33mNo market_caps for \u001b[39m\u001b[38;5;132;01m{\u001b[39;00mcoin_id\u001b[38;5;132;01m}\u001b[39;00m\u001b[33m. Keys: \u001b[39m\u001b[38;5;132;01m{\u001b[39;00mdata.keys()\u001b[38;5;132;01m}\u001b[39;00m\u001b[33m\"\u001b[39m)\n\u001b[32m     44\u001b[39m df = pd.DataFrame(caps, columns=[\u001b[33m\"\u001b[39m\u001b[33mtimestamp\u001b[39m\u001b[33m\"\u001b[39m, \u001b[33m\"\u001b[39m\u001b[33mmarket_cap\u001b[39m\u001b[33m\"\u001b[39m])\n\u001b[32m     45\u001b[39m df[\u001b[33m\"\u001b[39m\u001b[33mdate\u001b[39m\u001b[33m\"\u001b[39m] = pd.to_datetime(df[\u001b[33m\"\u001b[39m\u001b[33mtimestamp\u001b[39m\u001b[33m\"\u001b[39m], unit=\u001b[33m\"\u001b[39m\u001b[33mms\u001b[39m\u001b[33m\"\u001b[39m)\n",
      "\u001b[31mRuntimeError\u001b[39m: No market_caps for ripple. Keys: dict_keys(['error'])"
     ]
    }
   ],
   "source": [
    "# import requests, pandas as pd\n",
    "# from datetime import datetime\n",
    "\n",
    "# # 1) One-liner endpoint: everything, daily granularity\n",
    "# from_ts = int(datetime(2024, 10, 1).timestamp())  # 1388534400\n",
    "# to_ts = int(datetime.now().timestamp())  # \"today\"\n",
    "\n",
    "# url = \"https://api.coingecko.com/api/v3/coins/bitcoin/market_chart/range\"\n",
    "# params = {\"vs_currency\": \"usd\", \"from\": from_ts, \"to\": to_ts}\n",
    "\n",
    "# data = requests.get(url, params=params, timeout=30).json()\n",
    "\n",
    "# # 2) Convert to tidy DataFrame ---------------------------------------------\n",
    "# df_price = pd.DataFrame(data[\"prices\"], columns=[\"timestamp\", \"price\"])\n",
    "# df_mcap = pd.DataFrame(data[\"market_caps\"], columns=[\"timestamp\", \"market_cap\"])\n",
    "# df = df_price.merge(df_mcap, on=\"timestamp\")\n",
    "# df[\"date\"] = pd.to_datetime(df[\"timestamp\"], unit=\"ms\").dt.date\n",
    "# df = df[[\"date\", \"price\", \"market_cap\"]].set_index(\"date\")\n",
    "\n",
    "# # 3) Inspect & (optionally) save -------------------------------------------\n",
    "# print(df.head())\n",
    "# df.to_csv(\"btc_price_mcap_2010-2025_daily.csv\")\n",
    "\n",
    "\n",
    "# Public API users are limited to querying historical data within the past 365 days. Upgrade to a paid plan to enjoy full historical data access: https://www.coingecko.com/en/api/pricing.\n",
    "\n",
    "import requests, pandas as pd\n",
    "from datetime import datetime\n",
    "\n",
    "coin_id = \"ripple\"\n",
    "\n",
    "\n",
    "def fetch_market_caps(coin_id, vs=\"usd\", start_date=\"2024-05-01\"):\n",
    "    start_ts = int(pd.to_datetime(start_date).timestamp())\n",
    "    end_ts = int(datetime.utcnow().timestamp())\n",
    "    url = (\n",
    "        f\"https://api.coingecko.com/api/v3/coins/{coin_id}\"\n",
    "        f\"/market_chart/range?vs_currency={vs}&from={start_ts}&to={end_ts}\"\n",
    "    )\n",
    "    data = requests.get(url, timeout=30).json()\n",
    "    caps = data.get(\"market_caps\")\n",
    "    if caps is None:\n",
    "        raise RuntimeError(f\"No market_caps for {coin_id}. Keys: {data.keys()}\")\n",
    "    df = pd.DataFrame(caps, columns=[\"timestamp\", \"market_cap\"])\n",
    "    df[\"date\"] = pd.to_datetime(df[\"timestamp\"], unit=\"ms\")\n",
    "    return df.set_index(\"date\")[[\"market_cap\"]]\n",
    "\n",
    "\n",
    "if __name__ == \"__main__\":\n",
    "    df = fetch_market_caps(\"ripple\")\n",
    "    df.to_csv(\"xrp_market_cap_2024_today.csv\")\n",
    "    print(df.head())"
   ]
  },
  {
   "cell_type": "code",
   "execution_count": null,
   "id": "de0d5e65-7535-45b8-b518-81a080d7489a",
   "metadata": {},
   "outputs": [
    {
     "name": "stderr",
     "output_type": "stream",
     "text": [
      "<ipython-input-20-58ee4ab11480>:35: DeprecationWarning: datetime.datetime.utcnow() is deprecated and scheduled for removal in a future version. Use timezone-aware objects to represent datetimes in UTC: datetime.datetime.now(datetime.UTC).\n",
      "  end_ts = int(datetime.utcnow().timestamp())\n"
     ]
    },
    {
     "name": "stdout",
     "output_type": "stream",
     "text": [
      "              market_cap\n",
      "date                    \n",
      "2024-06-01  2.876250e+10\n",
      "2024-06-02  2.871307e+10\n",
      "2024-06-03  2.845987e+10\n",
      "2024-06-04  2.882853e+10\n",
      "2024-06-05  2.914896e+10\n"
     ]
    }
   ],
   "source": [
    "# import requests, pandas as pd\n",
    "# from datetime import datetime\n",
    "\n",
    "# # 1) One-liner endpoint: everything, daily granularity\n",
    "# from_ts = int(datetime(2024, 10, 1).timestamp())  # 1388534400\n",
    "# to_ts = int(datetime.now().timestamp())  # \"today\"\n",
    "\n",
    "# url = \"https://api.coingecko.com/api/v3/coins/bitcoin/market_chart/range\"\n",
    "# params = {\"vs_currency\": \"usd\", \"from\": from_ts, \"to\": to_ts}\n",
    "\n",
    "# data = requests.get(url, params=params, timeout=30).json()\n",
    "\n",
    "# # 2) Convert to tidy DataFrame ---------------------------------------------\n",
    "# df_price = pd.DataFrame(data[\"prices\"], columns=[\"timestamp\", \"price\"])\n",
    "# df_mcap = pd.DataFrame(data[\"market_caps\"], columns=[\"timestamp\", \"market_cap\"])\n",
    "# df = df_price.merge(df_mcap, on=\"timestamp\")\n",
    "# df[\"date\"] = pd.to_datetime(df[\"timestamp\"], unit=\"ms\").dt.date\n",
    "# df = df[[\"date\", \"price\", \"market_cap\"]].set_index(\"date\")\n",
    "\n",
    "# # 3) Inspect & (optionally) save -------------------------------------------\n",
    "# print(df.head())\n",
    "# df.to_csv(\"btc_price_mcap_2010-2025_daily.csv\")\n",
    "\n",
    "\n",
    "# Public API users are limited to querying historical data within the past 365 days. Upgrade to a paid plan to enjoy full historical data access: https://www.coingecko.com/en/api/pricing.\n",
    "\n",
    "import requests, pandas as pd\n",
    "from datetime import datetime\n",
    "\n",
    "coin_id = \"ripple\"\n",
    "\n",
    "\n",
    "def fetch_market_caps(coin_id, vs=\"usd\", start_date=\"2024-06-01\"):\n",
    "    start_ts = int(pd.to_datetime(start_date).timestamp())\n",
    "    end_ts = int(datetime.utcnow().timestamp())\n",
    "    url = (\n",
    "        f\"https://api.coingecko.com/api/v3/coins/{coin_id}\"\n",
    "        f\"/market_chart/range?vs_currency={vs}&from={start_ts}&to={end_ts}\"\n",
    "    )\n",
    "    data = requests.get(url, timeout=30).json()\n",
    "    caps = data.get(\"market_caps\")\n",
    "    if caps is None:\n",
    "        raise RuntimeError(f\"No market_caps for {coin_id}. Keys: {data.keys()}\")\n",
    "    df = pd.DataFrame(caps, columns=[\"timestamp\", \"market_cap\"])\n",
    "    df[\"date\"] = pd.to_datetime(df[\"timestamp\"], unit=\"ms\")\n",
    "    return df.set_index(\"date\")[[\"market_cap\"]]\n",
    "\n",
    "\n",
    "if __name__ == \"__main__\":\n",
    "    df = fetch_market_caps(\"ripple\")\n",
    "    df.to_csv(\"xrp_market_cap_2024_today.csv\")\n",
    "    print(df.head())"
   ]
  },
  {
   "cell_type": "code",
   "execution_count": null,
   "id": "89391003-35ac-49a3-8927-f2988b7ebd24",
   "metadata": {},
   "outputs": [
    {
     "name": "stdout",
     "output_type": "stream",
     "text": [
      "                   price    market_cap\n",
      "date                                  \n",
      "2024-06-01  67474.954837  1.331606e+12\n",
      "2024-06-02  67704.326418  1.333650e+12\n",
      "2024-06-03  67740.016902  1.335931e+12\n",
      "2024-06-04  68808.293686  1.355485e+12\n",
      "2024-06-05  70600.011167  1.390853e+12\n"
     ]
    }
   ],
   "source": [
    "import requests, pandas as pd\n",
    "from datetime import datetime\n",
    "# Public API users are limited to querying historical data within the past 365 days. Upgrade to a paid plan to enjoy full historical data access: https://www.coingecko.com/en/api/pricing.\n",
    "\n",
    "from_ts = int(datetime(2024, 6, 1).timestamp())  \n",
    "to_ts = int(datetime.now().timestamp())  # \"today\"\n",
    "\n",
    "id = \"bitcoin\"\n",
    "url = f\"https://api.coingecko.com/api/v3/coins/{id}/market_chart/range\"\n",
    "params = {\"vs_currency\": \"usd\", \"from\": from_ts, \"to\": to_ts}\n",
    "\n",
    "data = requests.get(url, params=params, timeout=30).json()\n",
    "\n",
    "# 2) Convert to tidy DataFrame ---------------------------------------------\n",
    "df_price = pd.DataFrame(data[\"prices\"], columns=[\"timestamp\", \"price\"])\n",
    "df_mcap = pd.DataFrame(data[\"market_caps\"], columns=[\"timestamp\", \"market_cap\"])\n",
    "df = df_price.merge(df_mcap, on=\"timestamp\")\n",
    "df[\"date\"] = pd.to_datetime(df[\"timestamp\"], unit=\"ms\").dt.date\n",
    "df = df[[\"date\", \"price\", \"market_cap\"]].set_index(\"date\")\n",
    "\n",
    "# 3) Inspect & (optionally) save -------------------------------------------\n",
    "print(df.head())\n",
    "df.to_csv(f\"{id}_price_mcap_2010-2025_daily.csv\")"
   ]
  },
  {
   "cell_type": "code",
   "execution_count": null,
   "id": "b6144be4-3407-44e7-8347-94fd44d738d9",
   "metadata": {},
   "outputs": [
    {
     "ename": "ModuleNotFoundError",
     "evalue": "No module named 'nodiensenv.constance'",
     "output_type": "error",
     "traceback": [
      "\u001b[31m---------------------------------------------------------------------------\u001b[39m",
      "\u001b[31mModuleNotFoundError\u001b[39m                       Traceback (most recent call last)",
      "\u001b[36mCell\u001b[39m\u001b[36m \u001b[39m\u001b[32mIn[22]\u001b[39m\u001b[32m, line 3\u001b[39m\n\u001b[32m      1\u001b[39m \u001b[38;5;28;01mimport\u001b[39;00m\u001b[38;5;250m \u001b[39m\u001b[34;01mrequests\u001b[39;00m,\u001b[38;5;250m \u001b[39m\u001b[34;01mpandas\u001b[39;00m\u001b[38;5;250m \u001b[39m\u001b[38;5;28;01mas\u001b[39;00m\u001b[38;5;250m \u001b[39m\u001b[34;01mpd\u001b[39;00m\n\u001b[32m      2\u001b[39m \u001b[38;5;28;01mfrom\u001b[39;00m\u001b[38;5;250m \u001b[39m\u001b[34;01mdatetime\u001b[39;00m\u001b[38;5;250m \u001b[39m\u001b[38;5;28;01mimport\u001b[39;00m datetime\n\u001b[32m----> \u001b[39m\u001b[32m3\u001b[39m \u001b[38;5;28;01mfrom\u001b[39;00m\u001b[38;5;250m \u001b[39m\u001b[34;01mnodiensenv\u001b[39;00m\u001b[34;01m.\u001b[39;00m\u001b[34;01mconstance\u001b[39;00m\u001b[38;5;250m \u001b[39m\u001b[38;5;28;01mimport\u001b[39;00m DATA_DIR\n\u001b[32m      4\u001b[39m \u001b[38;5;66;03m# Public API users are limited to querying historical data within the past 365 days. Upgrade to a paid plan to enjoy full historical data access: https://www.coingecko.com/en/api/pricing.\u001b[39;00m\n\u001b[32m      6\u001b[39m from_ts = \u001b[38;5;28mint\u001b[39m(datetime(\u001b[32m2024\u001b[39m, \u001b[32m6\u001b[39m, \u001b[32m1\u001b[39m).timestamp())  \n",
      "\u001b[31mModuleNotFoundError\u001b[39m: No module named 'nodiensenv.constance'"
     ]
    }
   ],
   "source": [
    "import requests, pandas as pd\n",
    "from datetime import datetime\n",
    "from nodiensenv.constance import DATA_DIR\n",
    "# Public API users are limited to querying historical data within the past 365 days. Upgrade to a paid plan to enjoy full historical data access: https://www.coingecko.com/en/api/pricing.\n",
    "\n",
    "from_ts = int(datetime(2024, 6, 1).timestamp())  \n",
    "to_ts = int(datetime.now().timestamp())  # \"today\"\n",
    "\n",
    "id = \"ripple\"\n",
    "url = f\"https://api.coingecko.com/api/v3/coins/{id}/market_chart/range\"\n",
    "params = {\"vs_currency\": \"usd\", \"from\": from_ts, \"to\": to_ts}\n",
    "\n",
    "data = requests.get(url, params=params, timeout=30).json()\n",
    "\n",
    "# 2) Convert to tidy DataFrame ---------------------------------------------\n",
    "df_price = pd.DataFrame(data[\"prices\"], columns=[\"timestamp\", \"price\"])\n",
    "df_mcap = pd.DataFrame(data[\"market_caps\"], columns=[\"timestamp\", \"market_cap\"])\n",
    "df = df_price.merge(df_mcap, on=\"timestamp\")\n",
    "df[\"date\"] = pd.to_datetime(df[\"timestamp\"], unit=\"ms\").dt.date\n",
    "df = df[[\"date\", \"price\", \"market_cap\"]].set_index(\"date\")\n",
    "\n",
    "# 3) Inspect & (optionally) save -------------------------------------------\n",
    "print(df.head())\n",
    "df.to_csv(DATA_DIR/f\"{id}_price_mcap_2010-2025_daily.csv\")"
   ]
  },
  {
   "cell_type": "code",
   "execution_count": null,
   "id": "0df5da22-979f-4a20-80c4-ccd679e91603",
   "metadata": {},
   "outputs": [
    {
     "name": "stdout",
     "output_type": "stream",
     "text": [
      "               price    market_cap\n",
      "date                              \n",
      "2024-06-01  0.518017  2.876250e+10\n",
      "2024-06-02  0.518039  2.871307e+10\n",
      "2024-06-03  0.513118  2.845987e+10\n",
      "2024-06-04  0.520061  2.882853e+10\n",
      "2024-06-05  0.525878  2.914896e+10\n"
     ]
    }
   ],
   "source": [
    "import requests, pandas as pd\n",
    "from datetime import datetime\n",
    "from nodiensenv.constants import DATA_DIR\n",
    "# Public API users are limited to querying historical data within the past 365 days. Upgrade to a paid plan to enjoy full historical data access: https://www.coingecko.com/en/api/pricing.\n",
    "\n",
    "from_ts = int(datetime(2024, 6, 1).timestamp())  \n",
    "to_ts = int(datetime.now().timestamp())  # \"today\"\n",
    "\n",
    "id = \"ripple\"\n",
    "url = f\"https://api.coingecko.com/api/v3/coins/{id}/market_chart/range\"\n",
    "params = {\"vs_currency\": \"usd\", \"from\": from_ts, \"to\": to_ts}\n",
    "\n",
    "data = requests.get(url, params=params, timeout=30).json()\n",
    "\n",
    "# 2) Convert to tidy DataFrame ---------------------------------------------\n",
    "df_price = pd.DataFrame(data[\"prices\"], columns=[\"timestamp\", \"price\"])\n",
    "df_mcap = pd.DataFrame(data[\"market_caps\"], columns=[\"timestamp\", \"market_cap\"])\n",
    "df = df_price.merge(df_mcap, on=\"timestamp\")\n",
    "df[\"date\"] = pd.to_datetime(df[\"timestamp\"], unit=\"ms\").dt.date\n",
    "df = df[[\"date\", \"price\", \"market_cap\"]].set_index(\"date\")\n",
    "\n",
    "# 3) Inspect & (optionally) save -------------------------------------------\n",
    "print(df.head())\n",
    "df.to_csv(DATA_DIR/f\"{id}_price_mcap_2010-2025_daily.csv\")"
   ]
  },
  {
   "cell_type": "code",
   "execution_count": null,
   "id": "b90c442a-8e3e-45df-af00-d75bb53011df",
   "metadata": {},
   "outputs": [
    {
     "name": "stdout",
     "output_type": "stream",
     "text": [
      "                 price    market_cap\n",
      "date                                \n",
      "2024-06-01  165.913530  7.630834e+10\n",
      "2024-06-02  165.963235  7.617768e+10\n",
      "2024-06-03  163.118541  7.505096e+10\n",
      "2024-06-04  164.812549  7.568163e+10\n",
      "2024-06-05  171.728129  7.888076e+10\n"
     ]
    }
   ],
   "source": [
    "import requests, pandas as pd\n",
    "from datetime import datetime\n",
    "from nodiensenv.constants import DATA_DIR\n",
    "# Public API users are limited to querying historical data within the past 365 days. Upgrade to a paid plan to enjoy full historical data access: https://www.coingecko.com/en/api/pricing.\n",
    "\n",
    "from_ts = int(datetime(2024, 6, 1).timestamp())  \n",
    "to_ts = int(datetime.now().timestamp())  # \"today\"\n",
    "\n",
    "id = \"solana\"\n",
    "url = f\"https://api.coingecko.com/api/v3/coins/{id}/market_chart/range\"\n",
    "params = {\"vs_currency\": \"usd\", \"from\": from_ts, \"to\": to_ts}\n",
    "\n",
    "data = requests.get(url, params=params, timeout=30).json()\n",
    "\n",
    "# 2) Convert to tidy DataFrame ---------------------------------------------\n",
    "df_price = pd.DataFrame(data[\"prices\"], columns=[\"timestamp\", \"price\"])\n",
    "df_mcap = pd.DataFrame(data[\"market_caps\"], columns=[\"timestamp\", \"market_cap\"])\n",
    "df = df_price.merge(df_mcap, on=\"timestamp\")\n",
    "df[\"date\"] = pd.to_datetime(df[\"timestamp\"], unit=\"ms\").dt.date\n",
    "df = df[[\"date\", \"price\", \"market_cap\"]].set_index(\"date\")\n",
    "\n",
    "# 3) Inspect & (optionally) save -------------------------------------------\n",
    "print(df.head())\n",
    "df.to_csv(DATA_DIR/f\"{id}_price_mcap_2010-2025_daily.csv\")"
   ]
  },
  {
   "cell_type": "code",
   "execution_count": null,
   "id": "dd92e1aa-640b-4c3d-819a-4b273fe82c2d",
   "metadata": {},
   "outputs": [
    {
     "name": "stdout",
     "output_type": "stream",
     "text": [
      "                 price    market_cap\n",
      "date                                \n",
      "2024-06-01  165.913530  7.630834e+10\n",
      "2024-06-02  165.963235  7.617768e+10\n",
      "2024-06-03  163.118541  7.505096e+10\n",
      "2024-06-04  164.812549  7.568163e+10\n",
      "2024-06-05  171.728129  7.888076e+10\n"
     ]
    }
   ],
   "source": [
    "import requests, pandas as pd\n",
    "from datetime import datetime\n",
    "from nodiensenv.constants import DATA_DIR\n",
    "# Public API users are limited to querying historical data within the past 365 days. Upgrade to a paid plan to enjoy full historical data access: https://www.coingecko.com/en/api/pricing.\n",
    "\n",
    "from_ts = int(datetime(2024, 6, 1).timestamp())  \n",
    "to_ts = int(datetime.now().timestamp())  # \"today\"\n",
    "\n",
    "id = \"solana\"\n",
    "url = f\"https://api.coingecko.com/api/v3/coins/{id}/market_chart/range\"\n",
    "params = {\"vs_currency\": \"usd\", \"from\": from_ts, \"to\": to_ts}\n",
    "\n",
    "data = requests.get(url, params=params, timeout=30).json()\n",
    "\n",
    "# 2) Convert to tidy DataFrame ---------------------------------------------\n",
    "df_price = pd.DataFrame(data[\"prices\"], columns=[\"timestamp\", \"price\"])\n",
    "df_mcap = pd.DataFrame(data[\"market_caps\"], columns=[\"timestamp\", \"market_cap\"])\n",
    "df = df_price.merge(df_mcap, on=\"timestamp\")\n",
    "df[\"date\"] = pd.to_datetime(df[\"timestamp\"], unit=\"ms\").dt.date\n",
    "df = df[[\"date\", \"price\", \"market_cap\"]].set_index(\"date\")\n",
    "\n",
    "# 3) Inspect & (optionally) save -------------------------------------------\n",
    "print(df.head())\n",
    "df.to_csv(DATA_DIR/f\"{id}_price_mcap_past_365.csv\")"
   ]
  },
  {
   "cell_type": "code",
   "execution_count": null,
   "id": "eec81827-6564-497d-8ce2-427ca3ab2cf9",
   "metadata": {},
   "outputs": [
    {
     "name": "stdout",
     "output_type": "stream",
     "text": [
      "                  price    market_cap\n",
      "date                                 \n",
      "2024-06-01  3761.069246  4.527587e+11\n",
      "2024-06-02  3813.452442  4.579951e+11\n",
      "2024-06-03  3780.711985  4.543049e+11\n",
      "2024-06-04  3766.637650  4.520850e+11\n",
      "2024-06-05  3814.932030  4.581325e+11\n"
     ]
    }
   ],
   "source": [
    "import requests, pandas as pd\n",
    "from datetime import datetime\n",
    "from nodiensenv.constants import DATA_DIR\n",
    "# Public API users are limited to querying historical data within the past 365 days. Upgrade to a paid plan to enjoy full historical data access: https://www.coingecko.com/en/api/pricing.\n",
    "\n",
    "from_ts = int(datetime(2024, 6, 1).timestamp())  \n",
    "to_ts = int(datetime.now().timestamp())  # \"today\"\n",
    "\n",
    "id = \"ethereum\"\n",
    "url = f\"https://api.coingecko.com/api/v3/coins/{id}/market_chart/range\"\n",
    "params = {\"vs_currency\": \"usd\", \"from\": from_ts, \"to\": to_ts}\n",
    "\n",
    "data = requests.get(url, params=params, timeout=30).json()\n",
    "\n",
    "# 2) Convert to tidy DataFrame ---------------------------------------------\n",
    "df_price = pd.DataFrame(data[\"prices\"], columns=[\"timestamp\", \"price\"])\n",
    "df_mcap = pd.DataFrame(data[\"market_caps\"], columns=[\"timestamp\", \"market_cap\"])\n",
    "df = df_price.merge(df_mcap, on=\"timestamp\")\n",
    "df[\"date\"] = pd.to_datetime(df[\"timestamp\"], unit=\"ms\").dt.date\n",
    "df = df[[\"date\", \"price\", \"market_cap\"]].set_index(\"date\")\n",
    "\n",
    "# 3) Inspect & (optionally) save -------------------------------------------\n",
    "print(df.head())\n",
    "df.to_csv(DATA_DIR/f\"{id}_price_mcap_past_365.csv\")"
   ]
  },
  {
   "cell_type": "code",
   "execution_count": null,
   "id": "a9f9be0e-0e68-4a93-9e1c-ee566b0ea612",
   "metadata": {},
   "outputs": [
    {
     "name": "stdout",
     "output_type": "stream",
     "text": [
      "                   price    market_cap\n",
      "date                                  \n",
      "2024-06-01  67474.954837  1.331606e+12\n",
      "2024-06-02  67704.326418  1.333650e+12\n",
      "2024-06-03  67740.016902  1.335931e+12\n",
      "2024-06-04  68808.293686  1.355485e+12\n",
      "2024-06-05  70600.011167  1.390853e+12\n"
     ]
    }
   ],
   "source": [
    "import requests, pandas as pd\n",
    "from datetime import datetime\n",
    "from nodiensenv.constants import DATA_DIR\n",
    "# Public API users are limited to querying historical data within the past 365 days. Upgrade to a paid plan to enjoy full historical data access: https://www.coingecko.com/en/api/pricing.\n",
    "\n",
    "from_ts = int(datetime(2024, 6, 1).timestamp())  \n",
    "to_ts = int(datetime.now().timestamp())  # \"today\"\n",
    "\n",
    "id = \"bitcoin\"\n",
    "url = f\"https://api.coingecko.com/api/v3/coins/{id}/market_chart/range\"\n",
    "params = {\"vs_currency\": \"usd\", \"from\": from_ts, \"to\": to_ts}\n",
    "\n",
    "data = requests.get(url, params=params, timeout=30).json()\n",
    "\n",
    "# 2) Convert to tidy DataFrame ---------------------------------------------\n",
    "df_price = pd.DataFrame(data[\"prices\"], columns=[\"timestamp\", \"price\"])\n",
    "df_mcap = pd.DataFrame(data[\"market_caps\"], columns=[\"timestamp\", \"market_cap\"])\n",
    "df = df_price.merge(df_mcap, on=\"timestamp\")\n",
    "df[\"date\"] = pd.to_datetime(df[\"timestamp\"], unit=\"ms\").dt.date\n",
    "df = df[[\"date\", \"price\", \"market_cap\"]].set_index(\"date\")\n",
    "\n",
    "# 3) Inspect & (optionally) save -------------------------------------------\n",
    "print(df.head())\n",
    "df.to_csv(DATA_DIR/f\"{id}_price_mcap_past_365.csv\")"
   ]
  },
  {
   "cell_type": "code",
   "execution_count": null,
   "id": "ee48d022-9c07-4803-8506-d41482cc6af5",
   "metadata": {},
   "outputs": [
    {
     "ename": "KeyError",
     "evalue": "'prices'",
     "output_type": "error",
     "traceback": [
      "\u001b[31m---------------------------------------------------------------------------\u001b[39m",
      "\u001b[31mKeyError\u001b[39m                                  Traceback (most recent call last)",
      "\u001b[36mCell\u001b[39m\u001b[36m \u001b[39m\u001b[32mIn[28]\u001b[39m\u001b[32m, line 16\u001b[39m\n\u001b[32m     13\u001b[39m data = requests.get(url, params=params, timeout=\u001b[32m30\u001b[39m).json()\n\u001b[32m     15\u001b[39m \u001b[38;5;66;03m# 2) Convert to tidy DataFrame \u001b[39;00m\n\u001b[32m---> \u001b[39m\u001b[32m16\u001b[39m df_price = pd.DataFrame(\u001b[43mdata\u001b[49m\u001b[43m[\u001b[49m\u001b[33;43m\"\u001b[39;49m\u001b[33;43mprices\u001b[39;49m\u001b[33;43m\"\u001b[39;49m\u001b[43m]\u001b[49m, columns=[\u001b[33m\"\u001b[39m\u001b[33mtimestamp\u001b[39m\u001b[33m\"\u001b[39m, \u001b[33m\"\u001b[39m\u001b[33mprice\u001b[39m\u001b[33m\"\u001b[39m])\n\u001b[32m     17\u001b[39m df_mcap = pd.DataFrame(data[\u001b[33m\"\u001b[39m\u001b[33mmarket_caps\u001b[39m\u001b[33m\"\u001b[39m], columns=[\u001b[33m\"\u001b[39m\u001b[33mtimestamp\u001b[39m\u001b[33m\"\u001b[39m, \u001b[33m\"\u001b[39m\u001b[33mmarket_cap\u001b[39m\u001b[33m\"\u001b[39m])\n\u001b[32m     18\u001b[39m df = df_price.merge(df_mcap, on=\u001b[33m\"\u001b[39m\u001b[33mtimestamp\u001b[39m\u001b[33m\"\u001b[39m)\n",
      "\u001b[31mKeyError\u001b[39m: 'prices'"
     ]
    }
   ],
   "source": [
    "import requests, pandas as pd\n",
    "from datetime import datetime\n",
    "from nodiensenv.constants import DATA_DIR\n",
    "# Public API users are limited to querying historical data within the past 365 days. Upgrade to a paid plan to enjoy full historical data access: https://www.coingecko.com/en/api/pricing.\n",
    "\n",
    "from_ts = int(datetime(2024, 6, 1).timestamp())  \n",
    "to_ts = int(datetime.now().timestamp())  # \"today\"\n",
    "\n",
    "id = \"binance\"\n",
    "url = f\"https://api.coingecko.com/api/v3/coins/{id}/market_chart/range\"\n",
    "params = {\"vs_currency\": \"usd\", \"from\": from_ts, \"to\": to_ts}\n",
    "\n",
    "data = requests.get(url, params=params, timeout=30).json()\n",
    "\n",
    "# 2) Convert to tidy DataFrame \n",
    "df_price = pd.DataFrame(data[\"prices\"], columns=[\"timestamp\", \"price\"])\n",
    "df_mcap = pd.DataFrame(data[\"market_caps\"], columns=[\"timestamp\", \"market_cap\"])\n",
    "df = df_price.merge(df_mcap, on=\"timestamp\")\n",
    "df[\"date\"] = pd.to_datetime(df[\"timestamp\"], unit=\"ms\").dt.date\n",
    "df = df[[\"date\", \"price\", \"market_cap\"]].set_index(\"date\")\n",
    "\n",
    "print(df.head())\n",
    "df.to_csv(DATA_DIR/f\"{id}_price_mcap_past_365.csv\")"
   ]
  },
  {
   "cell_type": "code",
   "execution_count": null,
   "metadata": {},
   "outputs": [
    {
     "name": "stdout",
     "output_type": "stream",
     "text": [
      "[{'id': 'bifrost-bridged-bnb-bifrost', 'symbol': 'bnb', 'name': 'Bifrost Bridged BNB (Bifrost)'}, {'id': 'binancecoin', 'symbol': 'bnb', 'name': 'BNB'}, {'id': 'binance-coin-wormhole', 'symbol': 'bnb', 'name': 'Binance Coin (Wormhole)'}]\n"
     ]
    }
   ],
   "source": [
    "import requests\n",
    "\n",
    "coins = requests.get(\"https://api.coingecko.com/api/v3/coins/list\").json()\n",
    "# find any entries matching “xrp”\n",
    "matches = [c for c in coins\n",
    "           if c[\"symbol\"].lower() == \"bnb\" or c[\"id\"].lower() == \"bnb\"]\n",
    "print(matches)\n"
   ]
  },
  {
   "cell_type": "code",
   "execution_count": null,
   "id": "f4db12b0-4b5f-450b-8b00-d7c247774a7f",
   "metadata": {},
   "outputs": [
    {
     "name": "stdout",
     "output_type": "stream",
     "text": [
      "                 price    market_cap\n",
      "date                                \n",
      "2024-06-01  593.707316  9.148450e+10\n",
      "2024-06-02  600.923979  9.239164e+10\n",
      "2024-06-03  602.947140  9.281574e+10\n",
      "2024-06-04  626.564555  9.639283e+10\n",
      "2024-06-05  686.510668  1.054689e+11\n"
     ]
    }
   ],
   "source": [
    "import requests, pandas as pd\n",
    "from datetime import datetime\n",
    "from nodiensenv.constants import DATA_DIR\n",
    "\n",
    "# Public API users are limited to querying historical data within the past 365 days. Upgrade to a paid plan to enjoy full historical data access: https://www.coingecko.com/en/api/pricing.\n",
    "\n",
    "from_ts = int(datetime(2024, 6, 1).timestamp())\n",
    "to_ts = int(datetime.now().timestamp())  # \"today\"\n",
    "\n",
    "id = \"binancecoin\"\n",
    "url = f\"https://api.coingecko.com/api/v3/coins/{id}/market_chart/range\"\n",
    "params = {\"vs_currency\": \"usd\", \"from\": from_ts, \"to\": to_ts}\n",
    "\n",
    "data = requests.get(url, params=params, timeout=30).json()\n",
    "\n",
    "# 2) Convert to tidy DataFrame\n",
    "df_price = pd.DataFrame(data[\"prices\"], columns=[\"timestamp\", \"price\"])\n",
    "df_mcap = pd.DataFrame(data[\"market_caps\"], columns=[\"timestamp\", \"market_cap\"])\n",
    "df = df_price.merge(df_mcap, on=\"timestamp\")\n",
    "df[\"date\"] = pd.to_datetime(df[\"timestamp\"], unit=\"ms\").dt.date\n",
    "df = df[[\"date\", \"price\", \"market_cap\"]].set_index(\"date\")\n",
    "\n",
    "print(df.head())\n",
    "df.to_csv(DATA_DIR / f\"{id}_price_mcap_past_365.csv\")"
   ]
  },
  {
   "cell_type": "code",
   "execution_count": null,
   "id": "c4feb456-9b07-483f-a1a5-48abc5ae8ce9",
   "metadata": {},
   "outputs": [
    {
     "name": "stdout",
     "output_type": "stream",
     "text": [
      "                price    market_cap\n",
      "date                               \n",
      "2024-06-01  83.262219  6.214954e+09\n",
      "2024-06-02  83.419640  6.214723e+09\n",
      "2024-06-03  82.986863  6.192221e+09\n",
      "2024-06-04  82.817939  6.176070e+09\n",
      "2024-06-05  83.633692  6.231374e+09\n"
     ]
    }
   ],
   "source": [
    "import requests, pandas as pd\n",
    "from datetime import datetime\n",
    "from nodiensenv.constants import DATA_DIR\n",
    "\n",
    "# Public API users are limited to querying historical data within the past 365 days. Upgrade to a paid plan to enjoy full historical data access: https://www.coingecko.com/en/api/pricing.\n",
    "\n",
    "from_ts = int(datetime(2024, 6, 1).timestamp())\n",
    "to_ts = int(datetime.now().timestamp())  # \"today\"\n",
    "\n",
    "id = \"litecoin\"\n",
    "url = f\"https://api.coingecko.com/api/v3/coins/{id}/market_chart/range\"\n",
    "params = {\"vs_currency\": \"usd\", \"from\": from_ts, \"to\": to_ts}\n",
    "\n",
    "data = requests.get(url, params=params, timeout=30).json()\n",
    "\n",
    "# 2) Convert to tidy DataFrame\n",
    "df_price = pd.DataFrame(data[\"prices\"], columns=[\"timestamp\", \"price\"])\n",
    "df_mcap = pd.DataFrame(data[\"market_caps\"], columns=[\"timestamp\", \"market_cap\"])\n",
    "df = df_price.merge(df_mcap, on=\"timestamp\")\n",
    "df[\"date\"] = pd.to_datetime(df[\"timestamp\"], unit=\"ms\").dt.date\n",
    "df = df[[\"date\", \"price\", \"market_cap\"]].set_index(\"date\")\n",
    "\n",
    "print(df.head())\n",
    "df.to_csv(DATA_DIR / f\"{id}_price_mcap_past_365.csv\")"
   ]
  },
  {
   "cell_type": "code",
   "execution_count": null,
   "id": "706a7dd1-8ebf-4d83-b06c-919061fe6810",
   "metadata": {},
   "outputs": [
    {
     "name": "stdout",
     "output_type": "stream",
     "text": [
      "               price    market_cap\n",
      "date                              \n",
      "2024-06-01  0.159116  2.303717e+10\n",
      "2024-06-02  0.160153  2.313651e+10\n",
      "2024-06-03  0.157016  2.270496e+10\n",
      "2024-06-04  0.158219  2.285281e+10\n",
      "2024-06-05  0.161543  2.334926e+10\n"
     ]
    }
   ],
   "source": [
    "import requests, pandas as pd\n",
    "from datetime import datetime\n",
    "from nodiensenv.constants import DATA_DIR\n",
    "\n",
    "# Public API users are limited to querying historical data within the past 365 days. Upgrade to a paid plan to enjoy full historical data access: https://www.coingecko.com/en/api/pricing.\n",
    "\n",
    "from_ts = int(datetime(2024, 6, 1).timestamp())\n",
    "to_ts = int(datetime.now().timestamp())  # \"today\"\n",
    "\n",
    "id = \"dogecoin\"\n",
    "url = f\"https://api.coingecko.com/api/v3/coins/{id}/market_chart/range\"\n",
    "params = {\"vs_currency\": \"usd\", \"from\": from_ts, \"to\": to_ts}\n",
    "\n",
    "data = requests.get(url, params=params, timeout=30).json()\n",
    "\n",
    "# 2) Convert to tidy DataFrame\n",
    "df_price = pd.DataFrame(data[\"prices\"], columns=[\"timestamp\", \"price\"])\n",
    "df_mcap = pd.DataFrame(data[\"market_caps\"], columns=[\"timestamp\", \"market_cap\"])\n",
    "df = df_price.merge(df_mcap, on=\"timestamp\")\n",
    "df[\"date\"] = pd.to_datetime(df[\"timestamp\"], unit=\"ms\").dt.date\n",
    "df = df[[\"date\", \"price\", \"market_cap\"]].set_index(\"date\")\n",
    "\n",
    "print(df.head())\n",
    "df.to_csv(DATA_DIR / f\"{id}_price_mcap_past_365.csv\")"
   ]
  },
  {
   "cell_type": "code",
   "execution_count": null,
   "id": "f6783604-357a-40c5-845e-5c0e398bb7c0",
   "metadata": {},
   "outputs": [
    {
     "ename": "KeyError",
     "evalue": "'prices'",
     "output_type": "error",
     "traceback": [
      "\u001b[31m---------------------------------------------------------------------------\u001b[39m",
      "\u001b[31mKeyError\u001b[39m                                  Traceback (most recent call last)",
      "\u001b[36mCell\u001b[39m\u001b[36m \u001b[39m\u001b[32mIn[33]\u001b[39m\u001b[32m, line 17\u001b[39m\n\u001b[32m     14\u001b[39m data = requests.get(url, params=params, timeout=\u001b[32m30\u001b[39m).json()\n\u001b[32m     16\u001b[39m \u001b[38;5;66;03m# 2) Convert to tidy DataFrame\u001b[39;00m\n\u001b[32m---> \u001b[39m\u001b[32m17\u001b[39m df_price = pd.DataFrame(\u001b[43mdata\u001b[49m\u001b[43m[\u001b[49m\u001b[33;43m\"\u001b[39;49m\u001b[33;43mprices\u001b[39;49m\u001b[33;43m\"\u001b[39;49m\u001b[43m]\u001b[49m, columns=[\u001b[33m\"\u001b[39m\u001b[33mtimestamp\u001b[39m\u001b[33m\"\u001b[39m, \u001b[33m\"\u001b[39m\u001b[33mprice\u001b[39m\u001b[33m\"\u001b[39m])\n\u001b[32m     18\u001b[39m df_mcap = pd.DataFrame(data[\u001b[33m\"\u001b[39m\u001b[33mmarket_caps\u001b[39m\u001b[33m\"\u001b[39m], columns=[\u001b[33m\"\u001b[39m\u001b[33mtimestamp\u001b[39m\u001b[33m\"\u001b[39m, \u001b[33m\"\u001b[39m\u001b[33mmarket_cap\u001b[39m\u001b[33m\"\u001b[39m])\n\u001b[32m     19\u001b[39m df = df_price.merge(df_mcap, on=\u001b[33m\"\u001b[39m\u001b[33mtimestamp\u001b[39m\u001b[33m\"\u001b[39m)\n",
      "\u001b[31mKeyError\u001b[39m: 'prices'"
     ]
    }
   ],
   "source": [
    "import requests, pandas as pd\n",
    "from datetime import datetime\n",
    "from nodiensenv.constants import DATA_DIR\n",
    "\n",
    "# Public API users are limited to querying historical data within the past 365 days. Upgrade to a paid plan to enjoy full historical data access: https://www.coingecko.com/en/api/pricing.\n",
    "\n",
    "from_ts = int(datetime(2024, 6, 1).timestamp())\n",
    "to_ts = int(datetime.now().timestamp())  # \"today\"\n",
    "\n",
    "id = \"bitcoincash\"\n",
    "url = f\"https://api.coingecko.com/api/v3/coins/{id}/market_chart/range\"\n",
    "params = {\"vs_currency\": \"usd\", \"from\": from_ts, \"to\": to_ts}\n",
    "\n",
    "data = requests.get(url, params=params, timeout=30).json()\n",
    "\n",
    "# 2) Convert to tidy DataFrame\n",
    "df_price = pd.DataFrame(data[\"prices\"], columns=[\"timestamp\", \"price\"])\n",
    "df_mcap = pd.DataFrame(data[\"market_caps\"], columns=[\"timestamp\", \"market_cap\"])\n",
    "df = df_price.merge(df_mcap, on=\"timestamp\")\n",
    "df[\"date\"] = pd.to_datetime(df[\"timestamp\"], unit=\"ms\").dt.date\n",
    "df = df[[\"date\", \"price\", \"market_cap\"]].set_index(\"date\")\n",
    "\n",
    "print(df.head())\n",
    "df.to_csv(DATA_DIR / f\"{id}_price_mcap_past_365.csv\")"
   ]
  },
  {
   "cell_type": "code",
   "execution_count": null,
   "metadata": {},
   "outputs": [
    {
     "name": "stdout",
     "output_type": "stream",
     "text": [
      "[{'id': 'binance-peg-bitcoin-cash', 'symbol': 'bch', 'name': 'Binance-Peg Bitcoin Cash'}, {'id': 'bitcoin-cash', 'symbol': 'bch', 'name': 'Bitcoin Cash'}]\n"
     ]
    }
   ],
   "source": [
    "import requests\n",
    "\n",
    "coins = requests.get(\"https://api.coingecko.com/api/v3/coins/list\").json()\n",
    "# find any entries matching “xrp”\n",
    "matches = [c for c in coins\n",
    "           if c[\"symbol\"].lower() == \"bch\" or c[\"id\"].lower() == \"bch\"]\n",
    "print(matches)\n",
    "\n"
   ]
  },
  {
   "cell_type": "code",
   "execution_count": null,
   "id": "f7ac0669-c8ae-4091-a3f8-192cdf8e1d66",
   "metadata": {},
   "outputs": [
    {
     "name": "stdout",
     "output_type": "stream",
     "text": [
      "                 price    market_cap\n",
      "date                                \n",
      "2024-06-01  455.213551  8.986883e+09\n",
      "2024-06-02  463.061046  9.117396e+09\n",
      "2024-06-03  458.379174  9.043004e+09\n",
      "2024-06-04  464.742407  9.154838e+09\n",
      "2024-06-05  477.324874  9.391643e+09\n"
     ]
    }
   ],
   "source": [
    "import requests, pandas as pd\n",
    "from datetime import datetime\n",
    "from nodiensenv.constants import DATA_DIR\n",
    "\n",
    "# Public API users are limited to querying historical data within the past 365 days. Upgrade to a paid plan to enjoy full historical data access: https://www.coingecko.com/en/api/pricing.\n",
    "\n",
    "from_ts = int(datetime(2024, 6, 1).timestamp())\n",
    "to_ts = int(datetime.now().timestamp())  # \"today\"\n",
    "\n",
    "id = \"bitcoin-cash\"\n",
    "url = f\"https://api.coingecko.com/api/v3/coins/{id}/market_chart/range\"\n",
    "params = {\"vs_currency\": \"usd\", \"from\": from_ts, \"to\": to_ts}\n",
    "\n",
    "data = requests.get(url, params=params, timeout=30).json()\n",
    "\n",
    "# 2) Convert to tidy DataFrame\n",
    "df_price = pd.DataFrame(data[\"prices\"], columns=[\"timestamp\", \"price\"])\n",
    "df_mcap = pd.DataFrame(data[\"market_caps\"], columns=[\"timestamp\", \"market_cap\"])\n",
    "df = df_price.merge(df_mcap, on=\"timestamp\")\n",
    "df[\"date\"] = pd.to_datetime(df[\"timestamp\"], unit=\"ms\").dt.date\n",
    "df = df[[\"date\", \"price\", \"market_cap\"]].set_index(\"date\")\n",
    "\n",
    "print(df.head())\n",
    "df.to_csv(DATA_DIR / f\"{id}_price_mcap_past_365.csv\")"
   ]
  }
 ],
 "metadata": {
  "language_info": {
   "codemirror_mode": {
    "name": "ipython",
    "version": 3
   },
   "file_extension": ".py",
   "mimetype": "text/x-python",
   "name": "python",
   "nbconvert_exporter": "python",
   "pygments_lexer": "ipython3",
   "version": 3
  }
 },
 "nbformat": 4,
 "nbformat_minor": 2
}
